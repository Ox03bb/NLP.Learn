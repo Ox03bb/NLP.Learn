{
  "nbformat": 4,
  "nbformat_minor": 0,
  "metadata": {
    "colab": {
      "provenance": [],
      "collapsed_sections": [
        "RIDOKjkIfAIZ",
        "howpAu_E0aGw",
        "T3fO7jeqa0Wm",
        "kAY2fhAnfFH2",
        "rh5p8BoefaGq",
        "L_gMAZ0cjrJy",
        "x0a4JbJGlRnE",
        "_ZvJH7O1lWJb",
        "StMDwt8kq8db",
        "h_HjoYS6u9_U"
      ],
      "authorship_tag": "ABX9TyNHPOMQBzHUqcd94IuF2bz6",
      "include_colab_link": true
    },
    "kernelspec": {
      "name": "python3",
      "display_name": "Python 3"
    },
    "language_info": {
      "name": "python"
    }
  },
  "cells": [
    {
      "cell_type": "markdown",
      "metadata": {
        "id": "view-in-github",
        "colab_type": "text"
      },
      "source": [
        "<a href=\"https://colab.research.google.com/github/Ox03bb/NLP.Learn/blob/main/NLP.ipynb\" target=\"_parent\"><img src=\"https://colab.research.google.com/assets/colab-badge.svg\" alt=\"Open In Colab\"/></a>"
      ]
    },
    {
      "cell_type": "markdown",
      "source": [
        "## Packages"
      ],
      "metadata": {
        "id": "RIDOKjkIfAIZ"
      }
    },
    {
      "cell_type": "code",
      "execution_count": 4,
      "metadata": {
        "colab": {
          "base_uri": "https://localhost:8080/"
        },
        "collapsed": true,
        "id": "2OtuJcHntyD3",
        "outputId": "7b4caac0-77a6-4873-daad-5ac20514829a"
      },
      
      "source": [
        "!pip install nltk\n",
        "!python -m nltk.downloader all"
      ]
    },
    {
      "cell_type": "code",
      "source": [
        "!pip install spacy\n",
        "!python -m spacy download en_core_web_trf\n",
        "# !python -m spacy download en_core_web_lg\n"
      ],
      "metadata": {
        "colab": {
          "base_uri": "https://localhost:8080/"
        },
        "id": "lAayvt8et4mL",
        "outputId": "e44ec495-4d10-437f-a2f7-ca52ce9db34d",
        "collapsed": true
      },
      "execution_count": 9,
      "outputs": [
        {
          "output_type": "stream",
          "name": "stdout",
          "text": [
            "Requirement already satisfied: spacy in /usr/local/lib/python3.10/dist-packages (3.7.5)\n",
            "Requirement already satisfied: spacy-legacy<3.1.0,>=3.0.11 in /usr/local/lib/python3.10/dist-packages (from spacy) (3.0.12)\n",
            "Requirement already satisfied: spacy-loggers<2.0.0,>=1.0.0 in /usr/local/lib/python3.10/dist-packages (from spacy) (1.0.5)\n",
            "Requirement already satisfied: murmurhash<1.1.0,>=0.28.0 in /usr/local/lib/python3.10/dist-packages (from spacy) (1.0.10)\n",
            "Requirement already satisfied: cymem<2.1.0,>=2.0.2 in /usr/local/lib/python3.10/dist-packages (from spacy) (2.0.8)\n",
            "Requirement already satisfied: preshed<3.1.0,>=3.0.2 in /usr/local/lib/python3.10/dist-packages (from spacy) (3.0.9)\n",
            "Requirement already satisfied: thinc<8.3.0,>=8.2.2 in /usr/local/lib/python3.10/dist-packages (from spacy) (8.2.5)\n",
            "Requirement already satisfied: wasabi<1.2.0,>=0.9.1 in /usr/local/lib/python3.10/dist-packages (from spacy) (1.1.3)\n",
            "Requirement already satisfied: srsly<3.0.0,>=2.4.3 in /usr/local/lib/python3.10/dist-packages (from spacy) (2.4.8)\n",
            "Requirement already satisfied: catalogue<2.1.0,>=2.0.6 in /usr/local/lib/python3.10/dist-packages (from spacy) (2.0.10)\n",
            "Requirement already satisfied: weasel<0.5.0,>=0.1.0 in /usr/local/lib/python3.10/dist-packages (from spacy) (0.4.1)\n",
            "Requirement already satisfied: typer<1.0.0,>=0.3.0 in /usr/local/lib/python3.10/dist-packages (from spacy) (0.12.3)\n",
            "Requirement already satisfied: tqdm<5.0.0,>=4.38.0 in /usr/local/lib/python3.10/dist-packages (from spacy) (4.66.4)\n",
            "Requirement already satisfied: requests<3.0.0,>=2.13.0 in /usr/local/lib/python3.10/dist-packages (from spacy) (2.31.0)\n",
            "Requirement already satisfied: pydantic!=1.8,!=1.8.1,<3.0.0,>=1.7.4 in /usr/local/lib/python3.10/dist-packages (from spacy) (2.8.2)\n",
            "Requirement already satisfied: jinja2 in /usr/local/lib/python3.10/dist-packages (from spacy) (3.1.4)\n",
            "Requirement already satisfied: setuptools in /usr/local/lib/python3.10/dist-packages (from spacy) (67.7.2)\n",
            "Requirement already satisfied: packaging>=20.0 in /usr/local/lib/python3.10/dist-packages (from spacy) (24.1)\n",
            "Requirement already satisfied: langcodes<4.0.0,>=3.2.0 in /usr/local/lib/python3.10/dist-packages (from spacy) (3.4.0)\n",
            "Requirement already satisfied: numpy>=1.19.0 in /usr/local/lib/python3.10/dist-packages (from spacy) (1.25.2)\n",
            "Requirement already satisfied: language-data>=1.2 in /usr/local/lib/python3.10/dist-packages (from langcodes<4.0.0,>=3.2.0->spacy) (1.2.0)\n",
            "Requirement already satisfied: annotated-types>=0.4.0 in /usr/local/lib/python3.10/dist-packages (from pydantic!=1.8,!=1.8.1,<3.0.0,>=1.7.4->spacy) (0.7.0)\n",
            "Requirement already satisfied: pydantic-core==2.20.1 in /usr/local/lib/python3.10/dist-packages (from pydantic!=1.8,!=1.8.1,<3.0.0,>=1.7.4->spacy) (2.20.1)\n",
            "Requirement already satisfied: typing-extensions>=4.6.1 in /usr/local/lib/python3.10/dist-packages (from pydantic!=1.8,!=1.8.1,<3.0.0,>=1.7.4->spacy) (4.12.2)\n",
            "Requirement already satisfied: charset-normalizer<4,>=2 in /usr/local/lib/python3.10/dist-packages (from requests<3.0.0,>=2.13.0->spacy) (3.3.2)\n",
            "Requirement already satisfied: idna<4,>=2.5 in /usr/local/lib/python3.10/dist-packages (from requests<3.0.0,>=2.13.0->spacy) (3.7)\n",
            "Requirement already satisfied: urllib3<3,>=1.21.1 in /usr/local/lib/python3.10/dist-packages (from requests<3.0.0,>=2.13.0->spacy) (2.0.7)\n",
            "Requirement already satisfied: certifi>=2017.4.17 in /usr/local/lib/python3.10/dist-packages (from requests<3.0.0,>=2.13.0->spacy) (2024.7.4)\n",
            "Requirement already satisfied: blis<0.8.0,>=0.7.8 in /usr/local/lib/python3.10/dist-packages (from thinc<8.3.0,>=8.2.2->spacy) (0.7.11)\n",
            "Requirement already satisfied: confection<1.0.0,>=0.0.1 in /usr/local/lib/python3.10/dist-packages (from thinc<8.3.0,>=8.2.2->spacy) (0.1.5)\n",
            "Requirement already satisfied: click>=8.0.0 in /usr/local/lib/python3.10/dist-packages (from typer<1.0.0,>=0.3.0->spacy) (8.1.7)\n",
            "Requirement already satisfied: shellingham>=1.3.0 in /usr/local/lib/python3.10/dist-packages (from typer<1.0.0,>=0.3.0->spacy) (1.5.4)\n",
            "Requirement already satisfied: rich>=10.11.0 in /usr/local/lib/python3.10/dist-packages (from typer<1.0.0,>=0.3.0->spacy) (13.7.1)\n",
            "Requirement already satisfied: cloudpathlib<1.0.0,>=0.7.0 in /usr/local/lib/python3.10/dist-packages (from weasel<0.5.0,>=0.1.0->spacy) (0.18.1)\n",
            "Requirement already satisfied: smart-open<8.0.0,>=5.2.1 in /usr/local/lib/python3.10/dist-packages (from weasel<0.5.0,>=0.1.0->spacy) (7.0.4)\n",
            "Requirement already satisfied: MarkupSafe>=2.0 in /usr/local/lib/python3.10/dist-packages (from jinja2->spacy) (2.1.5)\n",
            "Requirement already satisfied: marisa-trie>=0.7.7 in /usr/local/lib/python3.10/dist-packages (from language-data>=1.2->langcodes<4.0.0,>=3.2.0->spacy) (1.2.0)\n",
            "Requirement already satisfied: markdown-it-py>=2.2.0 in /usr/local/lib/python3.10/dist-packages (from rich>=10.11.0->typer<1.0.0,>=0.3.0->spacy) (3.0.0)\n",
            "Requirement already satisfied: pygments<3.0.0,>=2.13.0 in /usr/local/lib/python3.10/dist-packages (from rich>=10.11.0->typer<1.0.0,>=0.3.0->spacy) (2.16.1)\n",
            "Requirement already satisfied: wrapt in /usr/local/lib/python3.10/dist-packages (from smart-open<8.0.0,>=5.2.1->weasel<0.5.0,>=0.1.0->spacy) (1.14.1)\n",
            "Requirement already satisfied: mdurl~=0.1 in /usr/local/lib/python3.10/dist-packages (from markdown-it-py>=2.2.0->rich>=10.11.0->typer<1.0.0,>=0.3.0->spacy) (0.1.2)\n",
            "Collecting en-core-web-trf==3.7.3\n",
            "  Downloading https://github.com/explosion/spacy-models/releases/download/en_core_web_trf-3.7.3/en_core_web_trf-3.7.3-py3-none-any.whl (457.4 MB)\n",
            "\u001b[2K     \u001b[90m━━━━━━━━━━━━━━━━━━━━━━━━━━━━━━━━━━━━━━━━\u001b[0m \u001b[32m457.4/457.4 MB\u001b[0m \u001b[31m1.9 MB/s\u001b[0m eta \u001b[36m0:00:00\u001b[0m\n",
            "\u001b[?25hRequirement already satisfied: spacy<3.8.0,>=3.7.2 in /usr/local/lib/python3.10/dist-packages (from en-core-web-trf==3.7.3) (3.7.5)\n",
            "Requirement already satisfied: spacy-curated-transformers<0.3.0,>=0.2.0 in /usr/local/lib/python3.10/dist-packages (from en-core-web-trf==3.7.3) (0.2.2)\n",
            "Requirement already satisfied: spacy-legacy<3.1.0,>=3.0.11 in /usr/local/lib/python3.10/dist-packages (from spacy<3.8.0,>=3.7.2->en-core-web-trf==3.7.3) (3.0.12)\n",
            "Requirement already satisfied: spacy-loggers<2.0.0,>=1.0.0 in /usr/local/lib/python3.10/dist-packages (from spacy<3.8.0,>=3.7.2->en-core-web-trf==3.7.3) (1.0.5)\n",
            "Requirement already satisfied: murmurhash<1.1.0,>=0.28.0 in /usr/local/lib/python3.10/dist-packages (from spacy<3.8.0,>=3.7.2->en-core-web-trf==3.7.3) (1.0.10)\n",
            "Requirement already satisfied: cymem<2.1.0,>=2.0.2 in /usr/local/lib/python3.10/dist-packages (from spacy<3.8.0,>=3.7.2->en-core-web-trf==3.7.3) (2.0.8)\n",
            "Requirement already satisfied: preshed<3.1.0,>=3.0.2 in /usr/local/lib/python3.10/dist-packages (from spacy<3.8.0,>=3.7.2->en-core-web-trf==3.7.3) (3.0.9)\n",
            "Requirement already satisfied: thinc<8.3.0,>=8.2.2 in /usr/local/lib/python3.10/dist-packages (from spacy<3.8.0,>=3.7.2->en-core-web-trf==3.7.3) (8.2.5)\n",
            "Requirement already satisfied: wasabi<1.2.0,>=0.9.1 in /usr/local/lib/python3.10/dist-packages (from spacy<3.8.0,>=3.7.2->en-core-web-trf==3.7.3) (1.1.3)\n",
            "Requirement already satisfied: srsly<3.0.0,>=2.4.3 in /usr/local/lib/python3.10/dist-packages (from spacy<3.8.0,>=3.7.2->en-core-web-trf==3.7.3) (2.4.8)\n",
            "Requirement already satisfied: catalogue<2.1.0,>=2.0.6 in /usr/local/lib/python3.10/dist-packages (from spacy<3.8.0,>=3.7.2->en-core-web-trf==3.7.3) (2.0.10)\n",
            "Requirement already satisfied: weasel<0.5.0,>=0.1.0 in /usr/local/lib/python3.10/dist-packages (from spacy<3.8.0,>=3.7.2->en-core-web-trf==3.7.3) (0.4.1)\n",
            "Requirement already satisfied: typer<1.0.0,>=0.3.0 in /usr/local/lib/python3.10/dist-packages (from spacy<3.8.0,>=3.7.2->en-core-web-trf==3.7.3) (0.12.3)\n",
            "Requirement already satisfied: tqdm<5.0.0,>=4.38.0 in /usr/local/lib/python3.10/dist-packages (from spacy<3.8.0,>=3.7.2->en-core-web-trf==3.7.3) (4.66.4)\n",
            "Requirement already satisfied: requests<3.0.0,>=2.13.0 in /usr/local/lib/python3.10/dist-packages (from spacy<3.8.0,>=3.7.2->en-core-web-trf==3.7.3) (2.31.0)\n",
            "Requirement already satisfied: pydantic!=1.8,!=1.8.1,<3.0.0,>=1.7.4 in /usr/local/lib/python3.10/dist-packages (from spacy<3.8.0,>=3.7.2->en-core-web-trf==3.7.3) (2.8.2)\n",
            "Requirement already satisfied: jinja2 in /usr/local/lib/python3.10/dist-packages (from spacy<3.8.0,>=3.7.2->en-core-web-trf==3.7.3) (3.1.4)\n",
            "Requirement already satisfied: setuptools in /usr/local/lib/python3.10/dist-packages (from spacy<3.8.0,>=3.7.2->en-core-web-trf==3.7.3) (67.7.2)\n",
            "Requirement already satisfied: packaging>=20.0 in /usr/local/lib/python3.10/dist-packages (from spacy<3.8.0,>=3.7.2->en-core-web-trf==3.7.3) (24.1)\n",
            "Requirement already satisfied: langcodes<4.0.0,>=3.2.0 in /usr/local/lib/python3.10/dist-packages (from spacy<3.8.0,>=3.7.2->en-core-web-trf==3.7.3) (3.4.0)\n",
            "Requirement already satisfied: numpy>=1.19.0 in /usr/local/lib/python3.10/dist-packages (from spacy<3.8.0,>=3.7.2->en-core-web-trf==3.7.3) (1.25.2)\n",
            "Requirement already satisfied: curated-transformers<0.2.0,>=0.1.0 in /usr/local/lib/python3.10/dist-packages (from spacy-curated-transformers<0.3.0,>=0.2.0->en-core-web-trf==3.7.3) (0.1.1)\n",
            "Requirement already satisfied: curated-tokenizers<0.1.0,>=0.0.9 in /usr/local/lib/python3.10/dist-packages (from spacy-curated-transformers<0.3.0,>=0.2.0->en-core-web-trf==3.7.3) (0.0.9)\n",
            "Requirement already satisfied: torch>=1.12.0 in /usr/local/lib/python3.10/dist-packages (from spacy-curated-transformers<0.3.0,>=0.2.0->en-core-web-trf==3.7.3) (2.3.0+cu121)\n",
            "Requirement already satisfied: regex>=2022 in /usr/local/lib/python3.10/dist-packages (from curated-tokenizers<0.1.0,>=0.0.9->spacy-curated-transformers<0.3.0,>=0.2.0->en-core-web-trf==3.7.3) (2024.5.15)\n",
            "Requirement already satisfied: language-data>=1.2 in /usr/local/lib/python3.10/dist-packages (from langcodes<4.0.0,>=3.2.0->spacy<3.8.0,>=3.7.2->en-core-web-trf==3.7.3) (1.2.0)\n",
            "Requirement already satisfied: annotated-types>=0.4.0 in /usr/local/lib/python3.10/dist-packages (from pydantic!=1.8,!=1.8.1,<3.0.0,>=1.7.4->spacy<3.8.0,>=3.7.2->en-core-web-trf==3.7.3) (0.7.0)\n",
            "Requirement already satisfied: pydantic-core==2.20.1 in /usr/local/lib/python3.10/dist-packages (from pydantic!=1.8,!=1.8.1,<3.0.0,>=1.7.4->spacy<3.8.0,>=3.7.2->en-core-web-trf==3.7.3) (2.20.1)\n",
            "Requirement already satisfied: typing-extensions>=4.6.1 in /usr/local/lib/python3.10/dist-packages (from pydantic!=1.8,!=1.8.1,<3.0.0,>=1.7.4->spacy<3.8.0,>=3.7.2->en-core-web-trf==3.7.3) (4.12.2)\n",
            "Requirement already satisfied: charset-normalizer<4,>=2 in /usr/local/lib/python3.10/dist-packages (from requests<3.0.0,>=2.13.0->spacy<3.8.0,>=3.7.2->en-core-web-trf==3.7.3) (3.3.2)\n",
            "Requirement already satisfied: idna<4,>=2.5 in /usr/local/lib/python3.10/dist-packages (from requests<3.0.0,>=2.13.0->spacy<3.8.0,>=3.7.2->en-core-web-trf==3.7.3) (3.7)\n",
            "Requirement already satisfied: urllib3<3,>=1.21.1 in /usr/local/lib/python3.10/dist-packages (from requests<3.0.0,>=2.13.0->spacy<3.8.0,>=3.7.2->en-core-web-trf==3.7.3) (2.0.7)\n",
            "Requirement already satisfied: certifi>=2017.4.17 in /usr/local/lib/python3.10/dist-packages (from requests<3.0.0,>=2.13.0->spacy<3.8.0,>=3.7.2->en-core-web-trf==3.7.3) (2024.7.4)\n",
            "Requirement already satisfied: blis<0.8.0,>=0.7.8 in /usr/local/lib/python3.10/dist-packages (from thinc<8.3.0,>=8.2.2->spacy<3.8.0,>=3.7.2->en-core-web-trf==3.7.3) (0.7.11)\n",
            "Requirement already satisfied: confection<1.0.0,>=0.0.1 in /usr/local/lib/python3.10/dist-packages (from thinc<8.3.0,>=8.2.2->spacy<3.8.0,>=3.7.2->en-core-web-trf==3.7.3) (0.1.5)\n",
            "Requirement already satisfied: filelock in /usr/local/lib/python3.10/dist-packages (from torch>=1.12.0->spacy-curated-transformers<0.3.0,>=0.2.0->en-core-web-trf==3.7.3) (3.15.4)\n",
            "Requirement already satisfied: sympy in /usr/local/lib/python3.10/dist-packages (from torch>=1.12.0->spacy-curated-transformers<0.3.0,>=0.2.0->en-core-web-trf==3.7.3) (1.13.0)\n",
            "Requirement already satisfied: networkx in /usr/local/lib/python3.10/dist-packages (from torch>=1.12.0->spacy-curated-transformers<0.3.0,>=0.2.0->en-core-web-trf==3.7.3) (3.3)\n",
            "Requirement already satisfied: fsspec in /usr/local/lib/python3.10/dist-packages (from torch>=1.12.0->spacy-curated-transformers<0.3.0,>=0.2.0->en-core-web-trf==3.7.3) (2023.6.0)\n",
            "Requirement already satisfied: nvidia-cuda-nvrtc-cu12==12.1.105 in /usr/local/lib/python3.10/dist-packages (from torch>=1.12.0->spacy-curated-transformers<0.3.0,>=0.2.0->en-core-web-trf==3.7.3) (12.1.105)\n",
            "Requirement already satisfied: nvidia-cuda-runtime-cu12==12.1.105 in /usr/local/lib/python3.10/dist-packages (from torch>=1.12.0->spacy-curated-transformers<0.3.0,>=0.2.0->en-core-web-trf==3.7.3) (12.1.105)\n",
            "Requirement already satisfied: nvidia-cuda-cupti-cu12==12.1.105 in /usr/local/lib/python3.10/dist-packages (from torch>=1.12.0->spacy-curated-transformers<0.3.0,>=0.2.0->en-core-web-trf==3.7.3) (12.1.105)\n",
            "Requirement already satisfied: nvidia-cudnn-cu12==8.9.2.26 in /usr/local/lib/python3.10/dist-packages (from torch>=1.12.0->spacy-curated-transformers<0.3.0,>=0.2.0->en-core-web-trf==3.7.3) (8.9.2.26)\n",
            "Requirement already satisfied: nvidia-cublas-cu12==12.1.3.1 in /usr/local/lib/python3.10/dist-packages (from torch>=1.12.0->spacy-curated-transformers<0.3.0,>=0.2.0->en-core-web-trf==3.7.3) (12.1.3.1)\n",
            "Requirement already satisfied: nvidia-cufft-cu12==11.0.2.54 in /usr/local/lib/python3.10/dist-packages (from torch>=1.12.0->spacy-curated-transformers<0.3.0,>=0.2.0->en-core-web-trf==3.7.3) (11.0.2.54)\n",
            "Requirement already satisfied: nvidia-curand-cu12==10.3.2.106 in /usr/local/lib/python3.10/dist-packages (from torch>=1.12.0->spacy-curated-transformers<0.3.0,>=0.2.0->en-core-web-trf==3.7.3) (10.3.2.106)\n",
            "Requirement already satisfied: nvidia-cusolver-cu12==11.4.5.107 in /usr/local/lib/python3.10/dist-packages (from torch>=1.12.0->spacy-curated-transformers<0.3.0,>=0.2.0->en-core-web-trf==3.7.3) (11.4.5.107)\n",
            "Requirement already satisfied: nvidia-cusparse-cu12==12.1.0.106 in /usr/local/lib/python3.10/dist-packages (from torch>=1.12.0->spacy-curated-transformers<0.3.0,>=0.2.0->en-core-web-trf==3.7.3) (12.1.0.106)\n",
            "Requirement already satisfied: nvidia-nccl-cu12==2.20.5 in /usr/local/lib/python3.10/dist-packages (from torch>=1.12.0->spacy-curated-transformers<0.3.0,>=0.2.0->en-core-web-trf==3.7.3) (2.20.5)\n",
            "Requirement already satisfied: nvidia-nvtx-cu12==12.1.105 in /usr/local/lib/python3.10/dist-packages (from torch>=1.12.0->spacy-curated-transformers<0.3.0,>=0.2.0->en-core-web-trf==3.7.3) (12.1.105)\n",
            "Requirement already satisfied: triton==2.3.0 in /usr/local/lib/python3.10/dist-packages (from torch>=1.12.0->spacy-curated-transformers<0.3.0,>=0.2.0->en-core-web-trf==3.7.3) (2.3.0)\n",
            "Requirement already satisfied: nvidia-nvjitlink-cu12 in /usr/local/lib/python3.10/dist-packages (from nvidia-cusolver-cu12==11.4.5.107->torch>=1.12.0->spacy-curated-transformers<0.3.0,>=0.2.0->en-core-web-trf==3.7.3) (12.5.82)\n",
            "Requirement already satisfied: click>=8.0.0 in /usr/local/lib/python3.10/dist-packages (from typer<1.0.0,>=0.3.0->spacy<3.8.0,>=3.7.2->en-core-web-trf==3.7.3) (8.1.7)\n",
            "Requirement already satisfied: shellingham>=1.3.0 in /usr/local/lib/python3.10/dist-packages (from typer<1.0.0,>=0.3.0->spacy<3.8.0,>=3.7.2->en-core-web-trf==3.7.3) (1.5.4)\n",
            "Requirement already satisfied: rich>=10.11.0 in /usr/local/lib/python3.10/dist-packages (from typer<1.0.0,>=0.3.0->spacy<3.8.0,>=3.7.2->en-core-web-trf==3.7.3) (13.7.1)\n",
            "Requirement already satisfied: cloudpathlib<1.0.0,>=0.7.0 in /usr/local/lib/python3.10/dist-packages (from weasel<0.5.0,>=0.1.0->spacy<3.8.0,>=3.7.2->en-core-web-trf==3.7.3) (0.18.1)\n",
            "Requirement already satisfied: smart-open<8.0.0,>=5.2.1 in /usr/local/lib/python3.10/dist-packages (from weasel<0.5.0,>=0.1.0->spacy<3.8.0,>=3.7.2->en-core-web-trf==3.7.3) (7.0.4)\n",
            "Requirement already satisfied: MarkupSafe>=2.0 in /usr/local/lib/python3.10/dist-packages (from jinja2->spacy<3.8.0,>=3.7.2->en-core-web-trf==3.7.3) (2.1.5)\n",
            "Requirement already satisfied: marisa-trie>=0.7.7 in /usr/local/lib/python3.10/dist-packages (from language-data>=1.2->langcodes<4.0.0,>=3.2.0->spacy<3.8.0,>=3.7.2->en-core-web-trf==3.7.3) (1.2.0)\n",
            "Requirement already satisfied: markdown-it-py>=2.2.0 in /usr/local/lib/python3.10/dist-packages (from rich>=10.11.0->typer<1.0.0,>=0.3.0->spacy<3.8.0,>=3.7.2->en-core-web-trf==3.7.3) (3.0.0)\n",
            "Requirement already satisfied: pygments<3.0.0,>=2.13.0 in /usr/local/lib/python3.10/dist-packages (from rich>=10.11.0->typer<1.0.0,>=0.3.0->spacy<3.8.0,>=3.7.2->en-core-web-trf==3.7.3) (2.16.1)\n",
            "Requirement already satisfied: wrapt in /usr/local/lib/python3.10/dist-packages (from smart-open<8.0.0,>=5.2.1->weasel<0.5.0,>=0.1.0->spacy<3.8.0,>=3.7.2->en-core-web-trf==3.7.3) (1.14.1)\n",
            "Requirement already satisfied: mpmath<1.4,>=1.1.0 in /usr/local/lib/python3.10/dist-packages (from sympy->torch>=1.12.0->spacy-curated-transformers<0.3.0,>=0.2.0->en-core-web-trf==3.7.3) (1.3.0)\n",
            "Requirement already satisfied: mdurl~=0.1 in /usr/local/lib/python3.10/dist-packages (from markdown-it-py>=2.2.0->rich>=10.11.0->typer<1.0.0,>=0.3.0->spacy<3.8.0,>=3.7.2->en-core-web-trf==3.7.3) (0.1.2)\n",
            "\u001b[38;5;2m✔ Download and installation successful\u001b[0m\n",
            "You can now load the package via spacy.load('en_core_web_trf')\n",
            "\u001b[38;5;3m⚠ Restart to reload dependencies\u001b[0m\n",
            "If you are in a Jupyter or Colab notebook, you may need to restart Python in\n",
            "order to load all the package's dependencies. You can do this by selecting the\n",
            "'Restart kernel' or 'Restart runtime' option.\n"
          ]
        }
      ]
    },
    {
      "cell_type": "code",
      "source": [
        "import nltk\n",
        "from nltk.tokenize import  word_tokenize,sent_tokenize,PunktSentenceTokenizer\n",
        "from nltk.stem.porter import *\n",
        "from nltk.corpus import state_union\n",
        "from nltk.corpus import stopwords\n",
        "from nltk.stem import PorterStemmer,WordNetLemmatizer,SnowballStemmer\n",
        "\n",
        "import spacy\n",
        "from spacy import displacy\n",
        "\n",
        "from scipy import spatial\n"
      ],
      "metadata": {
        "id": "DU7Mz_O10c50"
      },
      "execution_count": 173,
      "outputs": []
    },
    {
      "cell_type": "markdown",
      "source": [
        "# ***Natural Language Processing***"
      ],
      "metadata": {
        "id": "cCjRHqqVziUJ"
      }
    },
    {
      "cell_type": "markdown",
      "source": [
        "# I- Tools Part I\n"
      ],
      "metadata": {
        "id": "btoaXgK00AL6"
      }
    },
    {
      "cell_type": "markdown",
      "source": [
        "## 01. Tokenization"
      ],
      "metadata": {
        "id": "howpAu_E0aGw"
      }
    },
    {
      "cell_type": "markdown",
      "source": [
        "### 01.a Spacy"
      ],
      "metadata": {
        "id": "fUa5WZ9B1nKZ"
      }
    },
    {
      "cell_type": "code",
      "source": [
        "nlp = spacy.load('en_core_web_trf')"
      ],
      "metadata": {
        "colab": {
          "base_uri": "https://localhost:8080/"
        },
        "id": "dsLnWfjI1wkb",
        "outputId": "28508a8c-3d22-4359-e5f9-4287dd64f886"
      },
      "execution_count": 2,
      "outputs": [
        {
          "output_type": "stream",
          "name": "stderr",
          "text": [
            "/usr/local/lib/python3.10/dist-packages/transformers/utils/generic.py:441: UserWarning: torch.utils._pytree._register_pytree_node is deprecated. Please use torch.utils._pytree.register_pytree_node instead.\n",
            "  _torch_pytree._register_pytree_node(\n",
            "/usr/local/lib/python3.10/dist-packages/transformers/utils/generic.py:309: UserWarning: torch.utils._pytree._register_pytree_node is deprecated. Please use torch.utils._pytree.register_pytree_node instead.\n",
            "  _torch_pytree._register_pytree_node(\n"
          ]
        }
      ]
    },
    {
      "cell_type": "code",
      "source": [
        "txt = \"this is a small sentence for test tools.. with NLTK and spacy!\"\n",
        "\n",
        "obj = nlp(txt)"
      ],
      "metadata": {
        "id": "YXvZDZatvUOV"
      },
      "execution_count": 3,
      "outputs": []
    },
    {
      "cell_type": "code",
      "source": [
        "for token in obj:\n",
        "    print(token.text,end=\" | \")\n",
        "#     print(token.shape)\n",
        "#     print(token.shape_)\n",
        "#     print(token.is_alpha)\n",
        "#     print(token.is_stop)\n",
        "#     print('---------------')"
      ],
      "metadata": {
        "colab": {
          "base_uri": "https://localhost:8080/"
        },
        "id": "xScsy1S812U4",
        "outputId": "37d3c55a-c36b-49a9-98a0-5b392225f530"
      },
      "execution_count": 4,
      "outputs": [
        {
          "output_type": "stream",
          "name": "stdout",
          "text": [
            "this | is | a | small | sentence | for | test | tools | .. | with | NLTK | and | spacy | ! | "
          ]
        }
      ]
    },
    {
      "cell_type": "code",
      "source": [
        "print(obj[0])\n",
        "print(obj[3:5])"
      ],
      "metadata": {
        "colab": {
          "base_uri": "https://localhost:8080/"
        },
        "id": "Mzfc1R5O2Ch7",
        "outputId": "0678d167-70be-4162-f4d2-6b35ab9833fe"
      },
      "execution_count": 5,
      "outputs": [
        {
          "output_type": "stream",
          "name": "stdout",
          "text": [
            "this\n",
            "small sentence\n"
          ]
        }
      ]
    },
    {
      "cell_type": "markdown",
      "source": [
        "### 01.b NLTK"
      ],
      "metadata": {
        "id": "NM9GYowl3fTA"
      }
    },
    {
      "cell_type": "code",
      "source": [
        "tokens = word_tokenize(txt)\n",
        "print(tokens)"
      ],
      "metadata": {
        "colab": {
          "base_uri": "https://localhost:8080/"
        },
        "id": "FWy1eyX82epS",
        "outputId": "fc45bc69-5ece-4063-d252-a972600eb4a9"
      },
      "execution_count": 6,
      "outputs": [
        {
          "output_type": "stream",
          "name": "stdout",
          "text": [
            "['this', 'is', 'a', 'small', 'sentence', 'for', 'test', 'tools', '..', 'with', 'NLTK', 'and', 'spacy', '!']\n"
          ]
        }
      ]
    },
    {
      "cell_type": "markdown",
      "source": [
        "## 02. Sentence Segmentation"
      ],
      "metadata": {
        "id": "T3fO7jeqa0Wm"
      }
    },
    {
      "cell_type": "markdown",
      "source": [
        "### 02.a Spacy"
      ],
      "metadata": {
        "id": "e2RuHqYTa_l2"
      }
    },
    {
      "cell_type": "code",
      "source": [
        "obj2 = nlp('This is the first sentence. This is another sentence. This is the last sentence.')\n",
        "\n",
        "obj2.sents"
      ],
      "metadata": {
        "colab": {
          "base_uri": "https://localhost:8080/"
        },
        "id": "6NtCOhfj350z",
        "outputId": "65eeb81a-78b8-45a1-bb2b-1480b03c9b00"
      },
      "execution_count": 21,
      "outputs": [
        {
          "output_type": "execute_result",
          "data": {
            "text/plain": [
              "<generator at 0x7c60631b5da0>"
            ]
          },
          "metadata": {},
          "execution_count": 21
        }
      ]
    },
    {
      "cell_type": "code",
      "source": [
        "for sent in obj2.sents:\n",
        "    print(sent)"
      ],
      "metadata": {
        "colab": {
          "base_uri": "https://localhost:8080/"
        },
        "id": "jKhHAapLbHU7",
        "outputId": "8ccf3a10-b871-4778-a7c4-ca7bc9d9c019"
      },
      "execution_count": 22,
      "outputs": [
        {
          "output_type": "stream",
          "name": "stdout",
          "text": [
            "This is the first sentence.\n",
            "This is another sentence.\n",
            "This is the last sentence.\n"
          ]
        }
      ]
    },
    {
      "cell_type": "code",
      "source": [
        "l = [x for x in obj2.sents]"
      ],
      "metadata": {
        "id": "miKXVF3AbOA7"
      },
      "execution_count": 23,
      "outputs": []
    },
    {
      "cell_type": "code",
      "source": [
        "l[0]"
      ],
      "metadata": {
        "colab": {
          "base_uri": "https://localhost:8080/"
        },
        "id": "F4jM1uJYeLfX",
        "outputId": "53eb5bf7-a35e-44fb-c511-215865183e10"
      },
      "execution_count": 24,
      "outputs": [
        {
          "output_type": "execute_result",
          "data": {
            "text/plain": [
              "This is the first sentence."
            ]
          },
          "metadata": {},
          "execution_count": 24
        }
      ]
    },
    {
      "cell_type": "markdown",
      "source": [
        "### 02.b NLTK"
      ],
      "metadata": {
        "id": "ZaL8LC3feB8M"
      }
    },
    {
      "cell_type": "code",
      "source": [
        "txt = 'This is the first sentence. This is another sentence. This is the last sentence.'\n",
        "\n",
        "sent = sent_tokenize(txt)"
      ],
      "metadata": {
        "id": "w0xqAR8QeFXs"
      },
      "execution_count": 25,
      "outputs": []
    },
    {
      "cell_type": "code",
      "source": [
        "sent"
      ],
      "metadata": {
        "colab": {
          "base_uri": "https://localhost:8080/"
        },
        "id": "EipT-B6LeXZj",
        "outputId": "ea67b1d9-b0e3-4c1b-cf84-f4451b986a82"
      },
      "execution_count": 26,
      "outputs": [
        {
          "output_type": "execute_result",
          "data": {
            "text/plain": [
              "['This is the first sentence.',\n",
              " 'This is another sentence.',\n",
              " 'This is the last sentence.']"
            ]
          },
          "metadata": {},
          "execution_count": 26
        }
      ]
    },
    {
      "cell_type": "markdown",
      "source": [
        "## 03. POS (Parts-Of-Speech)"
      ],
      "metadata": {
        "id": "kAY2fhAnfFH2"
      }
    },
    {
      "cell_type": "markdown",
      "source": [
        "### 3.a Spacy"
      ],
      "metadata": {
        "id": "rh5p8BoefaGq"
      }
    },
    {
      "cell_type": "code",
      "source": [
        "txt3_a = 'this txt for test POS tool from spacy libery in python'\n",
        "\n",
        "obj3 = nlp(txt3_a)"
      ],
      "metadata": {
        "id": "6KWUQvt9fW7h"
      },
      "execution_count": 39,
      "outputs": []
    },
    {
      "cell_type": "code",
      "source": [
        "for token in obj3[:5]:\n",
        "    print('\\033[93mWords is :\\033[0m ' , token.text)\n",
        "    print('\\033[93mPOS is   :\\033[0m ' , token.pos ,'===',token.pos_  , '===', spacy.explain(token.pos_))\n",
        "    print('\\033[93mDep is   :\\033[0m ' , token.dep , '===',token.dep_, '===', spacy.explain(token.dep_))\n",
        "    print('\\033[93mTag is   :\\033[0m ' , token.tag , '===',token.tag_, '===', spacy.explain(token.tag_))\n",
        "    print(\"-\"*40)"
      ],
      "metadata": {
        "colab": {
          "base_uri": "https://localhost:8080/"
        },
        "id": "zL9Tq56Uf9D1",
        "outputId": "08fac56e-19c4-4094-da3f-fa4c801c4674"
      },
      "execution_count": 37,
      "outputs": [
        {
          "output_type": "stream",
          "name": "stdout",
          "text": [
            "\u001b[93mWords is :\u001b[0m  this\n",
            "\u001b[93mPOS is   :\u001b[0m  90 === DET === determiner\n",
            "\u001b[93mDep is   :\u001b[0m  415 === det === determiner\n",
            "\u001b[93mTag is   :\u001b[0m  15267657372422890137 === DT === determiner\n",
            "----------------------------------------\n",
            "\u001b[93mWords is :\u001b[0m  txt\n",
            "\u001b[93mPOS is   :\u001b[0m  92 === NOUN === noun\n",
            "\u001b[93mDep is   :\u001b[0m  8206900633647566924 === ROOT === root\n",
            "\u001b[93mTag is   :\u001b[0m  15308085513773655218 === NN === noun, singular or mass\n",
            "----------------------------------------\n",
            "\u001b[93mWords is :\u001b[0m  for\n",
            "\u001b[93mPOS is   :\u001b[0m  85 === ADP === adposition\n",
            "\u001b[93mDep is   :\u001b[0m  443 === prep === prepositional modifier\n",
            "\u001b[93mTag is   :\u001b[0m  1292078113972184607 === IN === conjunction, subordinating or preposition\n",
            "----------------------------------------\n",
            "\u001b[93mWords is :\u001b[0m  test\n",
            "\u001b[93mPOS is   :\u001b[0m  92 === NOUN === noun\n",
            "\u001b[93mDep is   :\u001b[0m  7037928807040764755 === compound === compound\n",
            "\u001b[93mTag is   :\u001b[0m  15308085513773655218 === NN === noun, singular or mass\n",
            "----------------------------------------\n",
            "\u001b[93mWords is :\u001b[0m  POS\n",
            "\u001b[93mPOS is   :\u001b[0m  92 === NOUN === noun\n",
            "\u001b[93mDep is   :\u001b[0m  7037928807040764755 === compound === compound\n",
            "\u001b[93mTag is   :\u001b[0m  15308085513773655218 === NN === noun, singular or mass\n",
            "----------------------------------------\n"
          ]
        }
      ]
    },
    {
      "cell_type": "markdown",
      "source": [
        "### 3.b NLTK"
      ],
      "metadata": {
        "id": "BAPi39FzhhhQ"
      }
    },
    {
      "cell_type": "code",
      "source": [
        "txt3_b = 'this txt, for test POS tool from NLTK libery in python'\n",
        "\n",
        "for w , m in nltk.pos_tag(nltk.word_tokenize(txt3_b)):\n",
        "    print(f'\\033[93mword :\\033[0m ({w}),',\" \"*(6-len(w)),f' \\033[93mtype :\\033[0m ({m}) ,  \\033[93mmeans :\\033[0m  ({spacy.explain(m)})')"
      ],
      "metadata": {
        "colab": {
          "base_uri": "https://localhost:8080/"
        },
        "id": "SrMPhTOUhkc7",
        "outputId": "8cd72eff-43aa-4786-ee28-8700929406b4"
      },
      "execution_count": 56,
      "outputs": [
        {
          "output_type": "stream",
          "name": "stdout",
          "text": [
            "\u001b[93mword :\u001b[0m (this),     \u001b[93mtype :\u001b[0m (DT) ,  \u001b[93mmeans :\u001b[0m  (determiner)\n",
            "\u001b[93mword :\u001b[0m (txt),      \u001b[93mtype :\u001b[0m (NN) ,  \u001b[93mmeans :\u001b[0m  (noun, singular or mass)\n",
            "\u001b[93mword :\u001b[0m (,),        \u001b[93mtype :\u001b[0m (,) ,  \u001b[93mmeans :\u001b[0m  (punctuation mark, comma)\n",
            "\u001b[93mword :\u001b[0m (for),      \u001b[93mtype :\u001b[0m (IN) ,  \u001b[93mmeans :\u001b[0m  (conjunction, subordinating or preposition)\n",
            "\u001b[93mword :\u001b[0m (test),     \u001b[93mtype :\u001b[0m (NN) ,  \u001b[93mmeans :\u001b[0m  (noun, singular or mass)\n",
            "\u001b[93mword :\u001b[0m (POS),      \u001b[93mtype :\u001b[0m (NNP) ,  \u001b[93mmeans :\u001b[0m  (noun, proper singular)\n",
            "\u001b[93mword :\u001b[0m (tool),     \u001b[93mtype :\u001b[0m (NN) ,  \u001b[93mmeans :\u001b[0m  (noun, singular or mass)\n",
            "\u001b[93mword :\u001b[0m (from),     \u001b[93mtype :\u001b[0m (IN) ,  \u001b[93mmeans :\u001b[0m  (conjunction, subordinating or preposition)\n",
            "\u001b[93mword :\u001b[0m (NLTK),     \u001b[93mtype :\u001b[0m (NNP) ,  \u001b[93mmeans :\u001b[0m  (noun, proper singular)\n",
            "\u001b[93mword :\u001b[0m (libery),   \u001b[93mtype :\u001b[0m (NN) ,  \u001b[93mmeans :\u001b[0m  (noun, singular or mass)\n",
            "\u001b[93mword :\u001b[0m (in),       \u001b[93mtype :\u001b[0m (IN) ,  \u001b[93mmeans :\u001b[0m  (conjunction, subordinating or preposition)\n",
            "\u001b[93mword :\u001b[0m (python),   \u001b[93mtype :\u001b[0m (NN) ,  \u001b[93mmeans :\u001b[0m  (noun, singular or mass)\n"
          ]
        }
      ]
    },
    {
      "cell_type": "markdown",
      "source": [],
      "metadata": {
        "id": "7HwXPtjvjjH-"
      }
    },
    {
      "cell_type": "markdown",
      "source": [
        "## 04. stemming and Lemmatization"
      ],
      "metadata": {
        "id": "L_gMAZ0cjrJy"
      }
    },
    {
      "cell_type": "markdown",
      "source": [
        "### 04.1 stemming"
      ],
      "metadata": {
        "id": "x0a4JbJGlRnE"
      }
    },
    {
      "cell_type": "markdown",
      "source": [
        "#### 04.1.a NLTK"
      ],
      "metadata": {
        "id": "_ZvJH7O1lWJb"
      }
    },
    {
      "cell_type": "markdown",
      "source": [
        "the stelling remove the additional letters"
      ],
      "metadata": {
        "id": "K4gFcFXRmWRh"
      }
    },
    {
      "cell_type": "code",
      "source": [
        "p_stemmer = PorterStemmer()\n",
        "\n",
        "\n",
        "words = [\"running\",\"jumps\",\"happily\",\"better\",\"studies\",\"flies\",\"universities\",\"caring\",\"generously\",\"relational\"]\n",
        "\n",
        "print(\"PorterStemmer\\n\",\"-\"*30)\n",
        "for word in words:\n",
        "    print(word,\" \"*(15-len(word)),' --> ',p_stemmer.stem(word))"
      ],
      "metadata": {
        "colab": {
          "base_uri": "https://localhost:8080/"
        },
        "id": "yGP7Ddpllb50",
        "outputId": "35d7c732-39ba-49ba-f902-2767adb52bf6"
      },
      "execution_count": 72,
      "outputs": [
        {
          "output_type": "stream",
          "name": "stdout",
          "text": [
            "PorterStemmer\n",
            " ------------------------------\n",
            "running           -->  run\n",
            "jumps             -->  jump\n",
            "happily           -->  happili\n",
            "better            -->  better\n",
            "studies           -->  studi\n",
            "flies             -->  fli\n",
            "universities      -->  univers\n",
            "caring            -->  care\n",
            "generously        -->  gener\n",
            "relational        -->  relat\n"
          ]
        }
      ]
    },
    {
      "cell_type": "code",
      "source": [
        "s_stemmer = SnowballStemmer(language='english')\n",
        "\n",
        "\n",
        "words = [\"running\",\"jumps\",\"happily\",\"better\",\"studies\",\"flies\",\"universities\",\"caring\",\"generously\",\"relational\"]\n",
        "\n",
        "print(\"SnowballStemmer\\n\",\"-\"*30)\n",
        "for word in words:\n",
        "    print(word,\" \"*(15-len(word)),' --> ',s_stemmer.stem(word))"
      ],
      "metadata": {
        "colab": {
          "base_uri": "https://localhost:8080/"
        },
        "id": "7ocpPJHsmzig",
        "outputId": "eca9b1da-817b-4bf2-adf3-249a2bcde8ef"
      },
      "execution_count": 77,
      "outputs": [
        {
          "output_type": "stream",
          "name": "stdout",
          "text": [
            "SnowballStemmer\n",
            " ------------------------------\n",
            "running           -->  run\n",
            "jumps             -->  jump\n",
            "happily           -->  happili\n",
            "better            -->  better\n",
            "studies           -->  studi\n",
            "flies             -->  fli\n",
            "universities      -->  univers\n",
            "caring            -->  care\n",
            "generously        -->  generous\n",
            "relational        -->  relat\n"
          ]
        }
      ]
    },
    {
      "cell_type": "markdown",
      "source": [],
      "metadata": {
        "id": "0DvEbWkqnRwJ"
      }
    },
    {
      "cell_type": "markdown",
      "source": [],
      "metadata": {
        "id": "eODZZVbanTiE"
      }
    },
    {
      "cell_type": "markdown",
      "source": [
        "### 04.2 Limmitizing"
      ],
      "metadata": {
        "id": "Gi7mURponXwZ"
      }
    },
    {
      "cell_type": "markdown",
      "source": [
        "#### 04.a spacy"
      ],
      "metadata": {
        "id": "JhprtE5jj3pJ"
      }
    },
    {
      "cell_type": "code",
      "source": [
        "nlp = spacy.load('en_core_web_sm')\n",
        "\n",
        "doc1 = nlp(u\"I am a runner running in a race because I love to run since I ran yesterday\")\n",
        "\n",
        "for token in doc1:\n",
        "    print(token.text, ' '*(13-len(token.text)), token.pos_,' '*(13-len(token.pos_)), token.lemma, '\\t', token.lemma_)"
      ],
      "metadata": {
        "colab": {
          "base_uri": "https://localhost:8080/"
        },
        "id": "X1-Wb8YKj0fE",
        "outputId": "623be450-3c04-436d-8b2a-19e9d5182f08"
      },
      "execution_count": 84,
      "outputs": [
        {
          "output_type": "stream",
          "name": "stdout",
          "text": [
            "I              PRON           4690420944186131903 \t I\n",
            "am             AUX            10382539506755952630 \t be\n",
            "a              DET            11901859001352538922 \t a\n",
            "runner         NOUN           12640964157389618806 \t runner\n",
            "running        VERB           12767647472892411841 \t run\n",
            "in             ADP            3002984154512732771 \t in\n",
            "a              DET            11901859001352538922 \t a\n",
            "race           NOUN           8048469955494714898 \t race\n",
            "because        SCONJ          16950148841647037698 \t because\n",
            "I              PRON           4690420944186131903 \t I\n",
            "love           VERB           3702023516439754181 \t love\n",
            "to             PART           3791531372978436496 \t to\n",
            "run            VERB           12767647472892411841 \t run\n",
            "since          SCONJ          10066841407251338481 \t since\n",
            "I              PRON           4690420944186131903 \t I\n",
            "ran            VERB           12767647472892411841 \t run\n",
            "yesterday      NOUN           1756787072497230782 \t yesterday\n"
          ]
        }
      ]
    },
    {
      "cell_type": "markdown",
      "source": [
        "#### 04.b NLTK"
      ],
      "metadata": {
        "id": "RIVZCfIZqMBk"
      }
    },
    {
      "cell_type": "code",
      "source": [
        "wordnet_lemmatizer = WordNetLemmatizer()\n",
        "\n",
        "sentence = \"He was running and eating at same time. He has bad habit of swimming after playing long hours in the Sun.\"\n",
        "punctuations=\"?:!.,;\"\n",
        "sentence_words = nltk.word_tokenize(sentence)\n",
        "for word in sentence_words:\n",
        "    if word in punctuations:\n",
        "        sentence_words.remove(word)\n",
        "\n",
        "sentence_words\n",
        "print(\"{0:20}{1:20}\".format(\"Word\",\"Lemma\"))\n",
        "for word in sentence_words:\n",
        "    print (\"{0:20}{1:20}\".format(word,wordnet_lemmatizer.lemmatize(word)))"
      ],
      "metadata": {
        "colab": {
          "base_uri": "https://localhost:8080/"
        },
        "id": "nEZEuWFykiVm",
        "outputId": "0f507d60-1f3b-40b4-e3a5-b23524063245"
      },
      "execution_count": 86,
      "outputs": [
        {
          "output_type": "stream",
          "name": "stdout",
          "text": [
            "Word                Lemma               \n",
            "He                  He                  \n",
            "was                 wa                  \n",
            "running             running             \n",
            "and                 and                 \n",
            "eating              eating              \n",
            "at                  at                  \n",
            "same                same                \n",
            "time                time                \n",
            "He                  He                  \n",
            "has                 ha                  \n",
            "bad                 bad                 \n",
            "habit               habit               \n",
            "of                  of                  \n",
            "swimming            swimming            \n",
            "after               after               \n",
            "playing             playing             \n",
            "long                long                \n",
            "hours               hour                \n",
            "in                  in                  \n",
            "the                 the                 \n",
            "Sun                 Sun                 \n"
          ]
        }
      ]
    },
    {
      "cell_type": "code",
      "source": [
        "print(wordnet_lemmatizer.lemmatize(\"meeting\", \"n\"))\n",
        "print(wordnet_lemmatizer.lemmatize(\"meeting\",'v'))"
      ],
      "metadata": {
        "colab": {
          "base_uri": "https://localhost:8080/"
        },
        "id": "SOX8CcmYpPH2",
        "outputId": "5b856d36-e78a-4d90-a16f-94cbd65aa12e"
      },
      "execution_count": 87,
      "outputs": [
        {
          "output_type": "stream",
          "name": "stdout",
          "text": [
            "meeting\n",
            "meet\n"
          ]
        }
      ]
    },
    {
      "cell_type": "markdown",
      "source": [
        "## 05. NER (Named-Entity Recognition)\n"
      ],
      "metadata": {
        "id": "StMDwt8kq8db"
      }
    },
    {
      "cell_type": "code",
      "source": [
        "doc1 = nlp(u'Apple to build a Hong Kong factory for $6 million')\n",
        "\n",
        "\n",
        "for ent in doc1.ents:\n",
        "    print(ent.text)\n",
        "    print(ent.root.text)\n",
        "    print(ent.root.dep_)\n",
        "    print(spacy.explain(ent.root.dep_))\n",
        "    print(ent.label)\n",
        "    print(ent.label_)\n",
        "    print(str(spacy.explain(ent.label_)))\n",
        "    print(ent.start)\n",
        "    print(ent.end)\n",
        "    print(ent.start_char)\n",
        "    print(ent.end_char)\n",
        "    print('----------------------------------------------')"
      ],
      "metadata": {
        "colab": {
          "base_uri": "https://localhost:8080/"
        },
        "id": "9aYlOVMLtQBq",
        "outputId": "2c7564fd-c58f-4337-f2e9-5e3185dddb2e"
      },
      "execution_count": 114,
      "outputs": [
        {
          "output_type": "stream",
          "name": "stdout",
          "text": [
            "Apple\n",
            "Apple\n",
            "ROOT\n",
            "root\n",
            "383\n",
            "ORG\n",
            "Companies, agencies, institutions, etc.\n",
            "0\n",
            "1\n",
            "0\n",
            "5\n",
            "----------------------------------------------\n",
            "Hong Kong\n",
            "Kong\n",
            "compound\n",
            "compound\n",
            "384\n",
            "GPE\n",
            "Countries, cities, states\n",
            "4\n",
            "6\n",
            "17\n",
            "26\n",
            "----------------------------------------------\n",
            "$6 million\n",
            "million\n",
            "pobj\n",
            "object of preposition\n",
            "394\n",
            "MONEY\n",
            "Monetary values, including unit\n",
            "8\n",
            "11\n",
            "39\n",
            "49\n",
            "----------------------------------------------\n"
          ]
        }
      ]
    },
    {
      "cell_type": "markdown",
      "source": [
        "## 06. Matchers\n"
      ],
      "metadata": {
        "id": "h2OE4xytu5JX"
      }
    },
    {
      "cell_type": "markdown",
      "source": [
        "## 07. Visualization\n"
      ],
      "metadata": {
        "id": "h_HjoYS6u9_U"
      }
    },
    {
      "cell_type": "code",
      "source": [
        "doc1 = nlp(u'Apple is going to build a U.K. factory for $6 million.')\n",
        "displacy.render(doc1, style='dep', jupyter=True, options={'distance': 80})"
      ],
      "metadata": {
        "colab": {
          "base_uri": "https://localhost:8080/",
          "height": 0
        },
        "id": "ZNhpe6yKvX83",
        "outputId": "1171b452-4a0b-40d4-9a6c-13ad8ba13f4f"
      },
      "execution_count": 116,
      "outputs": [
        {
          "output_type": "display_data",
          "data": {
            "text/plain": [
              "<IPython.core.display.HTML object>"
            ],
            "text/html": [
              "<span class=\"tex2jax_ignore\"><svg xmlns=\"http://www.w3.org/2000/svg\" xmlns:xlink=\"http://www.w3.org/1999/xlink\" xml:lang=\"en\" id=\"7424e2e054b14d1cb2cceef36d3ce634-0\" class=\"displacy\" width=\"1010\" height=\"297.0\" direction=\"ltr\" style=\"max-width: none; height: 297.0px; color: #000000; background: #ffffff; font-family: Arial; direction: ltr\">\n",
              "<text class=\"displacy-token\" fill=\"currentColor\" text-anchor=\"middle\" y=\"207.0\">\n",
              "    <tspan class=\"displacy-word\" fill=\"currentColor\" x=\"50\">Apple</tspan>\n",
              "    <tspan class=\"displacy-tag\" dy=\"2em\" fill=\"currentColor\" x=\"50\">PROPN</tspan>\n",
              "</text>\n",
              "\n",
              "<text class=\"displacy-token\" fill=\"currentColor\" text-anchor=\"middle\" y=\"207.0\">\n",
              "    <tspan class=\"displacy-word\" fill=\"currentColor\" x=\"130\">is</tspan>\n",
              "    <tspan class=\"displacy-tag\" dy=\"2em\" fill=\"currentColor\" x=\"130\">AUX</tspan>\n",
              "</text>\n",
              "\n",
              "<text class=\"displacy-token\" fill=\"currentColor\" text-anchor=\"middle\" y=\"207.0\">\n",
              "    <tspan class=\"displacy-word\" fill=\"currentColor\" x=\"210\">going</tspan>\n",
              "    <tspan class=\"displacy-tag\" dy=\"2em\" fill=\"currentColor\" x=\"210\">VERB</tspan>\n",
              "</text>\n",
              "\n",
              "<text class=\"displacy-token\" fill=\"currentColor\" text-anchor=\"middle\" y=\"207.0\">\n",
              "    <tspan class=\"displacy-word\" fill=\"currentColor\" x=\"290\">to</tspan>\n",
              "    <tspan class=\"displacy-tag\" dy=\"2em\" fill=\"currentColor\" x=\"290\">PART</tspan>\n",
              "</text>\n",
              "\n",
              "<text class=\"displacy-token\" fill=\"currentColor\" text-anchor=\"middle\" y=\"207.0\">\n",
              "    <tspan class=\"displacy-word\" fill=\"currentColor\" x=\"370\">build</tspan>\n",
              "    <tspan class=\"displacy-tag\" dy=\"2em\" fill=\"currentColor\" x=\"370\">VERB</tspan>\n",
              "</text>\n",
              "\n",
              "<text class=\"displacy-token\" fill=\"currentColor\" text-anchor=\"middle\" y=\"207.0\">\n",
              "    <tspan class=\"displacy-word\" fill=\"currentColor\" x=\"450\">a</tspan>\n",
              "    <tspan class=\"displacy-tag\" dy=\"2em\" fill=\"currentColor\" x=\"450\">DET</tspan>\n",
              "</text>\n",
              "\n",
              "<text class=\"displacy-token\" fill=\"currentColor\" text-anchor=\"middle\" y=\"207.0\">\n",
              "    <tspan class=\"displacy-word\" fill=\"currentColor\" x=\"530\">U.K.</tspan>\n",
              "    <tspan class=\"displacy-tag\" dy=\"2em\" fill=\"currentColor\" x=\"530\">PROPN</tspan>\n",
              "</text>\n",
              "\n",
              "<text class=\"displacy-token\" fill=\"currentColor\" text-anchor=\"middle\" y=\"207.0\">\n",
              "    <tspan class=\"displacy-word\" fill=\"currentColor\" x=\"610\">factory</tspan>\n",
              "    <tspan class=\"displacy-tag\" dy=\"2em\" fill=\"currentColor\" x=\"610\">NOUN</tspan>\n",
              "</text>\n",
              "\n",
              "<text class=\"displacy-token\" fill=\"currentColor\" text-anchor=\"middle\" y=\"207.0\">\n",
              "    <tspan class=\"displacy-word\" fill=\"currentColor\" x=\"690\">for</tspan>\n",
              "    <tspan class=\"displacy-tag\" dy=\"2em\" fill=\"currentColor\" x=\"690\">ADP</tspan>\n",
              "</text>\n",
              "\n",
              "<text class=\"displacy-token\" fill=\"currentColor\" text-anchor=\"middle\" y=\"207.0\">\n",
              "    <tspan class=\"displacy-word\" fill=\"currentColor\" x=\"770\">$</tspan>\n",
              "    <tspan class=\"displacy-tag\" dy=\"2em\" fill=\"currentColor\" x=\"770\">SYM</tspan>\n",
              "</text>\n",
              "\n",
              "<text class=\"displacy-token\" fill=\"currentColor\" text-anchor=\"middle\" y=\"207.0\">\n",
              "    <tspan class=\"displacy-word\" fill=\"currentColor\" x=\"850\">6</tspan>\n",
              "    <tspan class=\"displacy-tag\" dy=\"2em\" fill=\"currentColor\" x=\"850\">NUM</tspan>\n",
              "</text>\n",
              "\n",
              "<text class=\"displacy-token\" fill=\"currentColor\" text-anchor=\"middle\" y=\"207.0\">\n",
              "    <tspan class=\"displacy-word\" fill=\"currentColor\" x=\"930\">million.</tspan>\n",
              "    <tspan class=\"displacy-tag\" dy=\"2em\" fill=\"currentColor\" x=\"930\">NUM</tspan>\n",
              "</text>\n",
              "\n",
              "<g class=\"displacy-arrow\">\n",
              "    <path class=\"displacy-arc\" id=\"arrow-7424e2e054b14d1cb2cceef36d3ce634-0-0\" stroke-width=\"2px\" d=\"M70,162.0 C70,82.0 200.0,82.0 200.0,162.0\" fill=\"none\" stroke=\"currentColor\"/>\n",
              "    <text dy=\"1.25em\" style=\"font-size: 0.8em; letter-spacing: 1px\">\n",
              "        <textPath xlink:href=\"#arrow-7424e2e054b14d1cb2cceef36d3ce634-0-0\" class=\"displacy-label\" startOffset=\"50%\" side=\"left\" fill=\"currentColor\" text-anchor=\"middle\">nsubj</textPath>\n",
              "    </text>\n",
              "    <path class=\"displacy-arrowhead\" d=\"M70,164.0 L62,152.0 78,152.0\" fill=\"currentColor\"/>\n",
              "</g>\n",
              "\n",
              "<g class=\"displacy-arrow\">\n",
              "    <path class=\"displacy-arc\" id=\"arrow-7424e2e054b14d1cb2cceef36d3ce634-0-1\" stroke-width=\"2px\" d=\"M150,162.0 C150,122.0 195.0,122.0 195.0,162.0\" fill=\"none\" stroke=\"currentColor\"/>\n",
              "    <text dy=\"1.25em\" style=\"font-size: 0.8em; letter-spacing: 1px\">\n",
              "        <textPath xlink:href=\"#arrow-7424e2e054b14d1cb2cceef36d3ce634-0-1\" class=\"displacy-label\" startOffset=\"50%\" side=\"left\" fill=\"currentColor\" text-anchor=\"middle\">aux</textPath>\n",
              "    </text>\n",
              "    <path class=\"displacy-arrowhead\" d=\"M150,164.0 L142,152.0 158,152.0\" fill=\"currentColor\"/>\n",
              "</g>\n",
              "\n",
              "<g class=\"displacy-arrow\">\n",
              "    <path class=\"displacy-arc\" id=\"arrow-7424e2e054b14d1cb2cceef36d3ce634-0-2\" stroke-width=\"2px\" d=\"M310,162.0 C310,122.0 355.0,122.0 355.0,162.0\" fill=\"none\" stroke=\"currentColor\"/>\n",
              "    <text dy=\"1.25em\" style=\"font-size: 0.8em; letter-spacing: 1px\">\n",
              "        <textPath xlink:href=\"#arrow-7424e2e054b14d1cb2cceef36d3ce634-0-2\" class=\"displacy-label\" startOffset=\"50%\" side=\"left\" fill=\"currentColor\" text-anchor=\"middle\">aux</textPath>\n",
              "    </text>\n",
              "    <path class=\"displacy-arrowhead\" d=\"M310,164.0 L302,152.0 318,152.0\" fill=\"currentColor\"/>\n",
              "</g>\n",
              "\n",
              "<g class=\"displacy-arrow\">\n",
              "    <path class=\"displacy-arc\" id=\"arrow-7424e2e054b14d1cb2cceef36d3ce634-0-3\" stroke-width=\"2px\" d=\"M230,162.0 C230,82.0 360.0,82.0 360.0,162.0\" fill=\"none\" stroke=\"currentColor\"/>\n",
              "    <text dy=\"1.25em\" style=\"font-size: 0.8em; letter-spacing: 1px\">\n",
              "        <textPath xlink:href=\"#arrow-7424e2e054b14d1cb2cceef36d3ce634-0-3\" class=\"displacy-label\" startOffset=\"50%\" side=\"left\" fill=\"currentColor\" text-anchor=\"middle\">xcomp</textPath>\n",
              "    </text>\n",
              "    <path class=\"displacy-arrowhead\" d=\"M360.0,164.0 L368.0,152.0 352.0,152.0\" fill=\"currentColor\"/>\n",
              "</g>\n",
              "\n",
              "<g class=\"displacy-arrow\">\n",
              "    <path class=\"displacy-arc\" id=\"arrow-7424e2e054b14d1cb2cceef36d3ce634-0-4\" stroke-width=\"2px\" d=\"M470,162.0 C470,82.0 600.0,82.0 600.0,162.0\" fill=\"none\" stroke=\"currentColor\"/>\n",
              "    <text dy=\"1.25em\" style=\"font-size: 0.8em; letter-spacing: 1px\">\n",
              "        <textPath xlink:href=\"#arrow-7424e2e054b14d1cb2cceef36d3ce634-0-4\" class=\"displacy-label\" startOffset=\"50%\" side=\"left\" fill=\"currentColor\" text-anchor=\"middle\">det</textPath>\n",
              "    </text>\n",
              "    <path class=\"displacy-arrowhead\" d=\"M470,164.0 L462,152.0 478,152.0\" fill=\"currentColor\"/>\n",
              "</g>\n",
              "\n",
              "<g class=\"displacy-arrow\">\n",
              "    <path class=\"displacy-arc\" id=\"arrow-7424e2e054b14d1cb2cceef36d3ce634-0-5\" stroke-width=\"2px\" d=\"M550,162.0 C550,122.0 595.0,122.0 595.0,162.0\" fill=\"none\" stroke=\"currentColor\"/>\n",
              "    <text dy=\"1.25em\" style=\"font-size: 0.8em; letter-spacing: 1px\">\n",
              "        <textPath xlink:href=\"#arrow-7424e2e054b14d1cb2cceef36d3ce634-0-5\" class=\"displacy-label\" startOffset=\"50%\" side=\"left\" fill=\"currentColor\" text-anchor=\"middle\">compound</textPath>\n",
              "    </text>\n",
              "    <path class=\"displacy-arrowhead\" d=\"M550,164.0 L542,152.0 558,152.0\" fill=\"currentColor\"/>\n",
              "</g>\n",
              "\n",
              "<g class=\"displacy-arrow\">\n",
              "    <path class=\"displacy-arc\" id=\"arrow-7424e2e054b14d1cb2cceef36d3ce634-0-6\" stroke-width=\"2px\" d=\"M390,162.0 C390,42.0 605.0,42.0 605.0,162.0\" fill=\"none\" stroke=\"currentColor\"/>\n",
              "    <text dy=\"1.25em\" style=\"font-size: 0.8em; letter-spacing: 1px\">\n",
              "        <textPath xlink:href=\"#arrow-7424e2e054b14d1cb2cceef36d3ce634-0-6\" class=\"displacy-label\" startOffset=\"50%\" side=\"left\" fill=\"currentColor\" text-anchor=\"middle\">dobj</textPath>\n",
              "    </text>\n",
              "    <path class=\"displacy-arrowhead\" d=\"M605.0,164.0 L613.0,152.0 597.0,152.0\" fill=\"currentColor\"/>\n",
              "</g>\n",
              "\n",
              "<g class=\"displacy-arrow\">\n",
              "    <path class=\"displacy-arc\" id=\"arrow-7424e2e054b14d1cb2cceef36d3ce634-0-7\" stroke-width=\"2px\" d=\"M390,162.0 C390,2.0 690.0,2.0 690.0,162.0\" fill=\"none\" stroke=\"currentColor\"/>\n",
              "    <text dy=\"1.25em\" style=\"font-size: 0.8em; letter-spacing: 1px\">\n",
              "        <textPath xlink:href=\"#arrow-7424e2e054b14d1cb2cceef36d3ce634-0-7\" class=\"displacy-label\" startOffset=\"50%\" side=\"left\" fill=\"currentColor\" text-anchor=\"middle\">prep</textPath>\n",
              "    </text>\n",
              "    <path class=\"displacy-arrowhead\" d=\"M690.0,164.0 L698.0,152.0 682.0,152.0\" fill=\"currentColor\"/>\n",
              "</g>\n",
              "\n",
              "<g class=\"displacy-arrow\">\n",
              "    <path class=\"displacy-arc\" id=\"arrow-7424e2e054b14d1cb2cceef36d3ce634-0-8\" stroke-width=\"2px\" d=\"M790,162.0 C790,82.0 920.0,82.0 920.0,162.0\" fill=\"none\" stroke=\"currentColor\"/>\n",
              "    <text dy=\"1.25em\" style=\"font-size: 0.8em; letter-spacing: 1px\">\n",
              "        <textPath xlink:href=\"#arrow-7424e2e054b14d1cb2cceef36d3ce634-0-8\" class=\"displacy-label\" startOffset=\"50%\" side=\"left\" fill=\"currentColor\" text-anchor=\"middle\">quantmod</textPath>\n",
              "    </text>\n",
              "    <path class=\"displacy-arrowhead\" d=\"M790,164.0 L782,152.0 798,152.0\" fill=\"currentColor\"/>\n",
              "</g>\n",
              "\n",
              "<g class=\"displacy-arrow\">\n",
              "    <path class=\"displacy-arc\" id=\"arrow-7424e2e054b14d1cb2cceef36d3ce634-0-9\" stroke-width=\"2px\" d=\"M870,162.0 C870,122.0 915.0,122.0 915.0,162.0\" fill=\"none\" stroke=\"currentColor\"/>\n",
              "    <text dy=\"1.25em\" style=\"font-size: 0.8em; letter-spacing: 1px\">\n",
              "        <textPath xlink:href=\"#arrow-7424e2e054b14d1cb2cceef36d3ce634-0-9\" class=\"displacy-label\" startOffset=\"50%\" side=\"left\" fill=\"currentColor\" text-anchor=\"middle\">compound</textPath>\n",
              "    </text>\n",
              "    <path class=\"displacy-arrowhead\" d=\"M870,164.0 L862,152.0 878,152.0\" fill=\"currentColor\"/>\n",
              "</g>\n",
              "\n",
              "<g class=\"displacy-arrow\">\n",
              "    <path class=\"displacy-arc\" id=\"arrow-7424e2e054b14d1cb2cceef36d3ce634-0-10\" stroke-width=\"2px\" d=\"M710,162.0 C710,42.0 925.0,42.0 925.0,162.0\" fill=\"none\" stroke=\"currentColor\"/>\n",
              "    <text dy=\"1.25em\" style=\"font-size: 0.8em; letter-spacing: 1px\">\n",
              "        <textPath xlink:href=\"#arrow-7424e2e054b14d1cb2cceef36d3ce634-0-10\" class=\"displacy-label\" startOffset=\"50%\" side=\"left\" fill=\"currentColor\" text-anchor=\"middle\">pobj</textPath>\n",
              "    </text>\n",
              "    <path class=\"displacy-arrowhead\" d=\"M925.0,164.0 L933.0,152.0 917.0,152.0\" fill=\"currentColor\"/>\n",
              "</g>\n",
              "</svg></span>"
            ]
          },
          "metadata": {}
        }
      ]
    },
    {
      "cell_type": "code",
      "source": [
        "displacy.render(doc1, style='ent', jupyter=True, options={'distance': 80})"
      ],
      "metadata": {
        "colab": {
          "base_uri": "https://localhost:8080/",
          "height": 0
        },
        "id": "urcGlerwvgUR",
        "outputId": "c7bb446b-3893-47fa-9d0b-4c41cfff59cf"
      },
      "execution_count": 120,
      "outputs": [
        {
          "output_type": "display_data",
          "data": {
            "text/plain": [
              "<IPython.core.display.HTML object>"
            ],
            "text/html": [
              "<span class=\"tex2jax_ignore\"><div class=\"entities\" style=\"line-height: 2.5; direction: ltr\">\n",
              "<mark class=\"entity\" style=\"background: #7aecec; padding: 0.45em 0.6em; margin: 0 0.25em; line-height: 1; border-radius: 0.35em;\">\n",
              "    Apple\n",
              "    <span style=\"font-size: 0.8em; font-weight: bold; line-height: 1; border-radius: 0.35em; vertical-align: middle; margin-left: 0.5rem\">ORG</span>\n",
              "</mark>\n",
              " is going to build a \n",
              "<mark class=\"entity\" style=\"background: #feca74; padding: 0.45em 0.6em; margin: 0 0.25em; line-height: 1; border-radius: 0.35em;\">\n",
              "    U.K.\n",
              "    <span style=\"font-size: 0.8em; font-weight: bold; line-height: 1; border-radius: 0.35em; vertical-align: middle; margin-left: 0.5rem\">GPE</span>\n",
              "</mark>\n",
              " factory for \n",
              "<mark class=\"entity\" style=\"background: #e4e7d2; padding: 0.45em 0.6em; margin: 0 0.25em; line-height: 1; border-radius: 0.35em;\">\n",
              "    $6 million\n",
              "    <span style=\"font-size: 0.8em; font-weight: bold; line-height: 1; border-radius: 0.35em; vertical-align: middle; margin-left: 0.5rem\">MONEY</span>\n",
              "</mark>\n",
              ".</div></span>"
            ]
          },
          "metadata": {}
        }
      ]
    },
    {
      "cell_type": "markdown",
      "source": [
        "# II. Part II"
      ],
      "metadata": {
        "id": "S9N09JGFCzTD"
      }
    },
    {
      "cell_type": "markdown",
      "source": [
        "## 01. Word Embedding"
      ],
      "metadata": {
        "id": "ngOq5G-5DR86"
      }
    },
    {
      "cell_type": "code",
      "source": [
        "nlp2 = spacy.load('en_core_web_lg')"
      ],
      "metadata": {
        "id": "2gQmHnRcDjcX"
      },
      "execution_count": 131,
      "outputs": []
    },
    {
      "cell_type": "code",
      "source": [
        "len(nlp2(u'love').vector)"
      ],
      "metadata": {
        "colab": {
          "base_uri": "https://localhost:8080/"
        },
        "id": "aSyNe30pD9sd",
        "outputId": "b6588e44-bfad-4e27-9435-52e59f7046c1"
      },
      "execution_count": 134,
      "outputs": [
        {
          "output_type": "execute_result",
          "data": {
            "text/plain": [
              "300"
            ]
          },
          "metadata": {},
          "execution_count": 134
        }
      ]
    },
    {
      "cell_type": "code",
      "source": [
        "print(nlp2(u'love').vector)"
      ],
      "metadata": {
        "colab": {
          "base_uri": "https://localhost:8080/"
        },
        "collapsed": true,
        "id": "xeu5f8YKEEno",
        "outputId": "56525c87-97b0-456f-97e4-72afda5c962e"
      },
      "execution_count": 142,
      "outputs": [
        {
          "output_type": "stream",
          "name": "stdout",
          "text": [
            "[ 2.0565e+00 -3.2259e+00 -5.7364e+00 -6.1460e+00  1.5748e-01 -2.4284e+00\n",
            "  7.6580e+00  2.7064e+00 -2.2110e+00 -8.9990e-01  6.7584e+00 -2.6983e+00\n",
            " -7.6898e+00  2.4036e+00  7.9365e+00 -2.1374e+00 -1.7134e-01 -1.9848e+00\n",
            "  2.1000e+00  2.0230e+00 -1.1329e-01  3.7908e+00 -3.3405e+00 -8.5698e+00\n",
            "  3.6204e+00  9.6741e-01 -2.4264e+00  4.4687e+00  1.5334e+00  1.3886e+00\n",
            "  1.4789e+00 -4.5457e+00 -1.0838e+00 -1.9183e+00  3.3245e+00 -1.4215e-01\n",
            " -1.9783e+00  5.4134e-01  1.9844e+00 -7.2322e-02 -1.3614e+00  3.2423e+00\n",
            "  3.5776e+00 -2.6719e+00  1.0900e+00  4.6470e+00 -2.1616e+00 -3.8358e+00\n",
            "  4.1603e+00  4.6552e+00 -1.6725e+00 -4.4985e+00 -2.8982e-01 -4.5826e+00\n",
            " -4.6451e-02 -4.6299e-01  8.8783e-01  1.2574e+00  6.6601e+00  5.5503e+00\n",
            "  3.5401e+00  2.6721e-01  3.7113e+00 -4.0592e+00  9.4553e-01  5.9527e+00\n",
            " -4.1922e+00 -6.9438e+00  5.0857e+00  1.4050e+00 -2.4574e+00  7.3218e+00\n",
            " -2.1215e+00 -6.7814e-01 -2.2871e+00  1.8938e+00 -2.5832e+00  4.3815e+00\n",
            "  4.2151e+00 -3.6183e+00 -1.4703e+00 -1.3201e+00  2.6590e+00 -5.6996e+00\n",
            " -2.0867e-02  9.6205e-01  2.0081e+00  1.4750e+00 -7.7691e+00 -3.4898e+00\n",
            "  3.8443e+00  3.2584e+00 -6.3080e-01 -8.3240e+00 -3.6071e+00 -5.0766e+00\n",
            "  1.5934e+00 -2.2644e+00 -1.5554e+00 -2.9191e+00 -1.8064e-01  6.5120e-01\n",
            " -2.9984e-01  4.0194e+00  2.2026e-01  8.0274e-01 -1.7585e+00  1.8378e+00\n",
            " -3.2169e+00  2.6540e+00  2.3664e+00 -6.5790e+00  6.5348e-01 -1.3508e+00\n",
            "  2.1475e+00  3.2138e+00 -8.9947e+00 -7.6404e+00 -1.2826e+00 -1.0916e+00\n",
            " -4.8551e+00  2.3193e+00 -5.1803e+00  7.3055e-01 -1.5054e+00  3.5798e-01\n",
            "  4.8880e+00 -3.3836e+00  8.9427e-01 -2.6204e+00 -3.7773e+00  2.2107e+00\n",
            " -4.8519e+00 -9.8902e-01 -3.3669e+00  2.7894e+00 -5.0841e+00 -5.7924e-01\n",
            "  3.9221e+00 -2.8150e+00 -1.3585e+00  4.9767e+00  4.6014e+00  1.8252e+00\n",
            " -9.3133e-01 -4.7533e+00 -3.0548e+00  3.4432e-01 -3.3965e+00 -2.8556e-01\n",
            "  5.5976e-01 -2.4043e+00  2.4901e-02 -1.7460e+00 -2.4686e+00  5.2176e+00\n",
            " -7.7651e-02  4.1721e-01  9.3170e-01 -3.6655e+00  9.2885e-01 -5.1232e+00\n",
            " -1.4109e+00 -2.2130e+00  1.2593e-01  1.7002e-01  3.6620e-01 -3.3297e+00\n",
            " -2.8706e+00 -3.5471e+00  2.8726e+00 -1.9366e+00  2.2992e+00 -1.2327e+00\n",
            "  2.2837e+00 -4.9106e+00  3.7301e+00  5.5283e+00  4.2388e+00 -2.1416e+00\n",
            "  3.8090e+00 -2.8421e+00  4.9338e+00 -1.4347e+00 -1.7137e+00  3.0704e+00\n",
            "  3.1565e+00 -2.9751e+00  2.4606e+00  4.1388e+00  4.0442e-01  2.2151e+00\n",
            " -1.1582e+00 -1.2870e+00  1.3246e+00 -3.9480e+00 -3.0005e+00  3.3863e+00\n",
            " -2.7484e+00 -1.3876e+00  1.0230e+00 -2.6053e+00 -6.9901e+00 -2.2942e+00\n",
            " -6.8935e+00 -4.1983e+00  9.8276e-01  1.3395e+00 -4.8869e-02 -1.2287e+00\n",
            "  1.4470e+00 -7.9510e-01  4.5749e+00  6.5947e-01  2.2056e+00  2.6567e+00\n",
            " -4.8067e+00  4.3957e+00 -1.2664e+00 -1.5321e+00  4.6449e+00 -3.8600e-01\n",
            "  4.4860e-01  9.9003e+00 -1.8173e+00  1.5570e+00 -2.0185e+00 -2.5939e-01\n",
            "  7.0708e+00  2.1668e+00 -5.5965e+00 -3.6880e+00  1.0096e+00 -5.1063e+00\n",
            " -3.2259e-01  3.9952e-01 -5.6467e+00  5.2380e+00  1.7802e-01 -2.3491e-01\n",
            " -6.9355e-01 -3.3943e+00  1.0203e+00  1.3879e+00  3.7037e+00 -1.1950e-01\n",
            " -4.8030e+00 -3.3641e+00  3.7098e+00  3.9947e-01 -3.6545e+00  2.5716e+00\n",
            " -1.3741e+00 -1.6315e+00  2.0852e+00  2.8567e-01 -2.0594e+00  2.6534e+00\n",
            " -6.3363e+00  1.8357e+00 -1.4042e+00 -3.6166e-01  1.3117e+00 -9.2785e-01\n",
            "  3.6175e+00 -2.6949e+00 -2.2252e+00  5.5984e-02 -3.1778e+00  4.1249e-01\n",
            "  6.4716e+00 -1.3846e+00 -2.0004e+00 -4.4885e-01 -3.6592e+00  2.4708e+00\n",
            "  6.9389e+00 -4.7911e+00 -1.1108e+00  4.3447e+00 -3.4196e+00 -7.2039e-01\n",
            "  2.5732e+00 -3.7553e-01 -1.4460e+00 -6.7010e-01  1.0171e+00  2.8546e+00\n",
            " -4.2695e+00  1.4214e+00  1.5802e+00  1.7597e+00 -6.0806e-01 -6.6107e+00\n",
            "  9.3832e-03 -4.2763e+00 -5.0507e-01  5.0049e+00 -8.5312e+00 -1.4967e+00]\n"
          ]
        }
      ]
    },
    {
      "cell_type": "code",
      "source": [
        "print(nlp2('love').similarity(nlp2('love')))\n",
        "print(nlp2('love').similarity(nlp2('hate')))\n",
        "print(nlp2('dog').similarity(nlp2('cat')))"
      ],
      "metadata": {
        "colab": {
          "base_uri": "https://localhost:8080/"
        },
        "id": "9Qnean4lFBkz",
        "outputId": "7fbf5f43-0981-4d2a-eec5-906cc4bc8f59"
      },
      "execution_count": 158,
      "outputs": [
        {
          "output_type": "stream",
          "name": "stdout",
          "text": [
            "1.0\n",
            "0.5708349903422567\n",
            "0.8220816752553904\n"
          ]
        }
      ]
    },
    {
      "cell_type": "code",
      "source": [
        "king = nlp2.vocab['king'].vector\n",
        "man = nlp2.vocab['man'].vector\n",
        "woman = nlp2.vocab['woman'].vector\n",
        "\n",
        "new_vector = king - man + woman\n",
        "\n",
        "print(\"king - man + woman =\" ,1 - spatial.distance.cosine(new_vector, nlp2(\"queen\").vector),\"| queen\")"
      ],
      "metadata": {
        "colab": {
          "base_uri": "https://localhost:8080/"
        },
        "id": "cpGkpxUGI9LQ",
        "outputId": "ca891413-381f-4cf2-b37d-751f8838c8a7"
      },
      "execution_count": 177,
      "outputs": [
        {
          "output_type": "stream",
          "name": "stdout",
          "text": [
            "king - man + woman = 0.6178014278411865 | queen\n"
          ]
        }
      ]
    },
    {
      "cell_type": "code",
      "source": [
        "print(\"king - man + woman =\" ,1 - spatial.distance.cosine(new_vector, nlp2(\"car\").vector),\"| queen\")"
      ],
      "metadata": {
        "colab": {
          "base_uri": "https://localhost:8080/"
        },
        "id": "DADkc-8oJ9dK",
        "outputId": "8ec6dfef-0f33-46a9-a4ac-d316a0007075"
      },
      "execution_count": 176,
      "outputs": [
        {
          "output_type": "stream",
          "name": "stdout",
          "text": [
            "king - man + woman = 0.14584881067276 | queen\n"
          ]
        }
      ]
    },
    {
      "cell_type": "code",
      "source": [],
      "metadata": {
        "id": "BFFxwE7XKwVH"
      },
      "execution_count": null,
      "outputs": []
    }
  ]
}
