{
  "nbformat": 4,
  "nbformat_minor": 0,
  "metadata": {
    "colab": {
      "provenance": [],
      "collapsed_sections": [
        "RIDOKjkIfAIZ",
        "howpAu_E0aGw",
        "T3fO7jeqa0Wm",
        "kAY2fhAnfFH2",
        "rh5p8BoefaGq",
        "L_gMAZ0cjrJy",
        "x0a4JbJGlRnE",
        "_ZvJH7O1lWJb",
        "StMDwt8kq8db",
        "h_HjoYS6u9_U"
      ],
      "authorship_tag": "ABX9TyPlpsrcdhzrcOqk81vSasJf",
      "include_colab_link": true
    },
    "kernelspec": {
      "name": "python3",
      "display_name": "Python 3"
    },
    "language_info": {
      "name": "python"
    }
  },
  "cells": [
    {
      "cell_type": "markdown",
      "metadata": {
        "id": "view-in-github",
        "colab_type": "text"
      },
      "source": [
        "<a href=\"https://colab.research.google.com/github/Ox03bb/NLP.Learn/blob/main/NLP.ipynb\" target=\"_parent\"><img src=\"https://colab.research.google.com/assets/colab-badge.svg\" alt=\"Open In Colab\"/></a>"
      ]
    },
    {
      "cell_type": "markdown",
      "source": [
        "## Packages"
      ],
      "metadata": {
        "id": "RIDOKjkIfAIZ"
      }
    },
    {
      "cell_type": "code",
      "execution_count": 24,
      "metadata": {
        "collapsed": true,
        "id": "2OtuJcHntyD3",
        "outputId": "6cf6cb4a-a720-4ff0-e740-86560aadf988",
        "colab": {
          "base_uri": "https://localhost:8080/"
        }
      },
      "outputs": [
        {
          "output_type": "stream",
          "name": "stderr",
          "text": [
            "[nltk_data] Downloading package wordnet to /root/nltk_data...\n"
          ]
        },
        {
          "output_type": "execute_result",
          "data": {
            "text/plain": [
              "True"
            ]
          },
          "metadata": {},
          "execution_count": 24
        }
      ],
      "source": [
        "!pip install nltk\n",
        "!python -m nltk.downloader all"
      ]
    },
    {
      "cell_type": "code",
      "source": [
        "!pip install spacy\n",
        "!python -m spacy download en_core_web_trf\n",
        "!python -m spacy download en_core_web_lg\n"
      ],
      "metadata": {
        "id": "lAayvt8et4mL",
        "collapsed": true
      },
      "execution_count": null,
      "outputs": []
    },
    {
      "cell_type": "code",
      "source": [
        "import nltk\n",
        "from nltk.tokenize import  word_tokenize,sent_tokenize,PunktSentenceTokenizer\n",
        "from nltk.stem.porter import *\n",
        "from nltk.corpus import state_union\n",
        "from nltk.corpus import stopwords\n",
        "from nltk.stem import PorterStemmer,WordNetLemmatizer,SnowballStemmer\n",
        "from nltk.corpus import wordnet\n",
        "\n",
        "\n",
        "import spacy\n",
        "from spacy import displacy\n",
        "\n",
        "from scipy import spatial\n"
      ],
      "metadata": {
        "id": "DU7Mz_O10c50"
      },
      "execution_count": 22,
      "outputs": []
    },
    {
      "cell_type": "markdown",
      "source": [
        "# ***Natural Language Processing***"
      ],
      "metadata": {
        "id": "cCjRHqqVziUJ"
      }
    },
    {
      "cell_type": "markdown",
      "source": [
        "# I- Part I :\n",
        "___"
      ],
      "metadata": {
        "id": "btoaXgK00AL6"
      }
    },
    {
      "cell_type": "markdown",
      "source": [
        "## 01. Tokenization"
      ],
      "metadata": {
        "id": "howpAu_E0aGw"
      }
    },
    {
      "cell_type": "markdown",
      "source": [
        "### 01.a Spacy"
      ],
      "metadata": {
        "id": "fUa5WZ9B1nKZ"
      }
    },
    {
      "cell_type": "code",
      "source": [
        "nlp = spacy.load('en_core_web_trf')"
      ],
      "metadata": {
        "colab": {
          "base_uri": "https://localhost:8080/"
        },
        "id": "dsLnWfjI1wkb",
        "outputId": "28508a8c-3d22-4359-e5f9-4287dd64f886"
      },
      "execution_count": null,
      "outputs": [
        {
          "output_type": "stream",
          "name": "stderr",
          "text": [
            "/usr/local/lib/python3.10/dist-packages/transformers/utils/generic.py:441: UserWarning: torch.utils._pytree._register_pytree_node is deprecated. Please use torch.utils._pytree.register_pytree_node instead.\n",
            "  _torch_pytree._register_pytree_node(\n",
            "/usr/local/lib/python3.10/dist-packages/transformers/utils/generic.py:309: UserWarning: torch.utils._pytree._register_pytree_node is deprecated. Please use torch.utils._pytree.register_pytree_node instead.\n",
            "  _torch_pytree._register_pytree_node(\n"
          ]
        }
      ]
    },
    {
      "cell_type": "code",
      "source": [
        "txt = \"this is a small sentence for test tools.. with NLTK and spacy!\"\n",
        "\n",
        "obj = nlp(txt)"
      ],
      "metadata": {
        "id": "YXvZDZatvUOV"
      },
      "execution_count": null,
      "outputs": []
    },
    {
      "cell_type": "code",
      "source": [
        "for token in obj:\n",
        "    print(token.text,end=\" | \")\n",
        "#     print(token.shape)\n",
        "#     print(token.shape_)\n",
        "#     print(token.is_alpha)\n",
        "#     print(token.is_stop)\n",
        "#     print('---------------')"
      ],
      "metadata": {
        "colab": {
          "base_uri": "https://localhost:8080/"
        },
        "id": "xScsy1S812U4",
        "outputId": "37d3c55a-c36b-49a9-98a0-5b392225f530"
      },
      "execution_count": null,
      "outputs": [
        {
          "output_type": "stream",
          "name": "stdout",
          "text": [
            "this | is | a | small | sentence | for | test | tools | .. | with | NLTK | and | spacy | ! | "
          ]
        }
      ]
    },
    {
      "cell_type": "code",
      "source": [
        "print(obj[0])\n",
        "print(obj[3:5])"
      ],
      "metadata": {
        "colab": {
          "base_uri": "https://localhost:8080/"
        },
        "id": "Mzfc1R5O2Ch7",
        "outputId": "0678d167-70be-4162-f4d2-6b35ab9833fe"
      },
      "execution_count": null,
      "outputs": [
        {
          "output_type": "stream",
          "name": "stdout",
          "text": [
            "this\n",
            "small sentence\n"
          ]
        }
      ]
    },
    {
      "cell_type": "markdown",
      "source": [
        "### 01.b NLTK"
      ],
      "metadata": {
        "id": "NM9GYowl3fTA"
      }
    },
    {
      "cell_type": "code",
      "source": [
        "tokens = word_tokenize(txt)\n",
        "print(tokens)"
      ],
      "metadata": {
        "colab": {
          "base_uri": "https://localhost:8080/"
        },
        "id": "FWy1eyX82epS",
        "outputId": "fc45bc69-5ece-4063-d252-a972600eb4a9"
      },
      "execution_count": null,
      "outputs": [
        {
          "output_type": "stream",
          "name": "stdout",
          "text": [
            "['this', 'is', 'a', 'small', 'sentence', 'for', 'test', 'tools', '..', 'with', 'NLTK', 'and', 'spacy', '!']\n"
          ]
        }
      ]
    },
    {
      "cell_type": "markdown",
      "source": [
        "## 02. Sentence Segmentation"
      ],
      "metadata": {
        "id": "T3fO7jeqa0Wm"
      }
    },
    {
      "cell_type": "markdown",
      "source": [
        "### 02.a Spacy"
      ],
      "metadata": {
        "id": "e2RuHqYTa_l2"
      }
    },
    {
      "cell_type": "code",
      "source": [
        "obj2 = nlp('This is the first sentence. This is another sentence. This is the last sentence.')\n",
        "\n",
        "obj2.sents"
      ],
      "metadata": {
        "colab": {
          "base_uri": "https://localhost:8080/"
        },
        "id": "6NtCOhfj350z",
        "outputId": "65eeb81a-78b8-45a1-bb2b-1480b03c9b00"
      },
      "execution_count": null,
      "outputs": [
        {
          "output_type": "execute_result",
          "data": {
            "text/plain": [
              "<generator at 0x7c60631b5da0>"
            ]
          },
          "metadata": {},
          "execution_count": 21
        }
      ]
    },
    {
      "cell_type": "code",
      "source": [
        "for sent in obj2.sents:\n",
        "    print(sent)"
      ],
      "metadata": {
        "colab": {
          "base_uri": "https://localhost:8080/"
        },
        "id": "jKhHAapLbHU7",
        "outputId": "8ccf3a10-b871-4778-a7c4-ca7bc9d9c019"
      },
      "execution_count": null,
      "outputs": [
        {
          "output_type": "stream",
          "name": "stdout",
          "text": [
            "This is the first sentence.\n",
            "This is another sentence.\n",
            "This is the last sentence.\n"
          ]
        }
      ]
    },
    {
      "cell_type": "code",
      "source": [
        "l = [x for x in obj2.sents]"
      ],
      "metadata": {
        "id": "miKXVF3AbOA7"
      },
      "execution_count": null,
      "outputs": []
    },
    {
      "cell_type": "code",
      "source": [
        "l[0]"
      ],
      "metadata": {
        "colab": {
          "base_uri": "https://localhost:8080/"
        },
        "id": "F4jM1uJYeLfX",
        "outputId": "53eb5bf7-a35e-44fb-c511-215865183e10"
      },
      "execution_count": null,
      "outputs": [
        {
          "output_type": "execute_result",
          "data": {
            "text/plain": [
              "This is the first sentence."
            ]
          },
          "metadata": {},
          "execution_count": 24
        }
      ]
    },
    {
      "cell_type": "markdown",
      "source": [
        "### 02.b NLTK"
      ],
      "metadata": {
        "id": "ZaL8LC3feB8M"
      }
    },
    {
      "cell_type": "code",
      "source": [
        "txt = 'This is the first sentence. This is another sentence. This is the last sentence.'\n",
        "\n",
        "sent = sent_tokenize(txt)"
      ],
      "metadata": {
        "id": "w0xqAR8QeFXs"
      },
      "execution_count": null,
      "outputs": []
    },
    {
      "cell_type": "code",
      "source": [
        "sent"
      ],
      "metadata": {
        "colab": {
          "base_uri": "https://localhost:8080/"
        },
        "id": "EipT-B6LeXZj",
        "outputId": "ea67b1d9-b0e3-4c1b-cf84-f4451b986a82"
      },
      "execution_count": null,
      "outputs": [
        {
          "output_type": "execute_result",
          "data": {
            "text/plain": [
              "['This is the first sentence.',\n",
              " 'This is another sentence.',\n",
              " 'This is the last sentence.']"
            ]
          },
          "metadata": {},
          "execution_count": 26
        }
      ]
    },
    {
      "cell_type": "markdown",
      "source": [
        "## 03. POS (Parts-Of-Speech)"
      ],
      "metadata": {
        "id": "kAY2fhAnfFH2"
      }
    },
    {
      "cell_type": "markdown",
      "source": [
        "### 3.a Spacy"
      ],
      "metadata": {
        "id": "rh5p8BoefaGq"
      }
    },
    {
      "cell_type": "code",
      "source": [
        "txt3_a = 'this txt for test POS tool from spacy libery in python'\n",
        "\n",
        "obj3 = nlp(txt3_a)"
      ],
      "metadata": {
        "id": "6KWUQvt9fW7h"
      },
      "execution_count": null,
      "outputs": []
    },
    {
      "cell_type": "code",
      "source": [
        "for token in obj3[:5]:\n",
        "    print('\\033[93mWords is :\\033[0m ' , token.text)\n",
        "    print('\\033[93mPOS is   :\\033[0m ' , token.pos ,'===',token.pos_  , '===', spacy.explain(token.pos_))\n",
        "    print('\\033[93mDep is   :\\033[0m ' , token.dep , '===',token.dep_, '===', spacy.explain(token.dep_))\n",
        "    print('\\033[93mTag is   :\\033[0m ' , token.tag , '===',token.tag_, '===', spacy.explain(token.tag_))\n",
        "    print(\"-\"*40)"
      ],
      "metadata": {
        "colab": {
          "base_uri": "https://localhost:8080/"
        },
        "id": "zL9Tq56Uf9D1",
        "outputId": "08fac56e-19c4-4094-da3f-fa4c801c4674"
      },
      "execution_count": null,
      "outputs": [
        {
          "output_type": "stream",
          "name": "stdout",
          "text": [
            "\u001b[93mWords is :\u001b[0m  this\n",
            "\u001b[93mPOS is   :\u001b[0m  90 === DET === determiner\n",
            "\u001b[93mDep is   :\u001b[0m  415 === det === determiner\n",
            "\u001b[93mTag is   :\u001b[0m  15267657372422890137 === DT === determiner\n",
            "----------------------------------------\n",
            "\u001b[93mWords is :\u001b[0m  txt\n",
            "\u001b[93mPOS is   :\u001b[0m  92 === NOUN === noun\n",
            "\u001b[93mDep is   :\u001b[0m  8206900633647566924 === ROOT === root\n",
            "\u001b[93mTag is   :\u001b[0m  15308085513773655218 === NN === noun, singular or mass\n",
            "----------------------------------------\n",
            "\u001b[93mWords is :\u001b[0m  for\n",
            "\u001b[93mPOS is   :\u001b[0m  85 === ADP === adposition\n",
            "\u001b[93mDep is   :\u001b[0m  443 === prep === prepositional modifier\n",
            "\u001b[93mTag is   :\u001b[0m  1292078113972184607 === IN === conjunction, subordinating or preposition\n",
            "----------------------------------------\n",
            "\u001b[93mWords is :\u001b[0m  test\n",
            "\u001b[93mPOS is   :\u001b[0m  92 === NOUN === noun\n",
            "\u001b[93mDep is   :\u001b[0m  7037928807040764755 === compound === compound\n",
            "\u001b[93mTag is   :\u001b[0m  15308085513773655218 === NN === noun, singular or mass\n",
            "----------------------------------------\n",
            "\u001b[93mWords is :\u001b[0m  POS\n",
            "\u001b[93mPOS is   :\u001b[0m  92 === NOUN === noun\n",
            "\u001b[93mDep is   :\u001b[0m  7037928807040764755 === compound === compound\n",
            "\u001b[93mTag is   :\u001b[0m  15308085513773655218 === NN === noun, singular or mass\n",
            "----------------------------------------\n"
          ]
        }
      ]
    },
    {
      "cell_type": "markdown",
      "source": [
        "### 3.b NLTK"
      ],
      "metadata": {
        "id": "BAPi39FzhhhQ"
      }
    },
    {
      "cell_type": "code",
      "source": [
        "txt3_b = 'this txt, for test POS tool from NLTK libery in python'\n",
        "\n",
        "for w , m in nltk.pos_tag(nltk.word_tokenize(txt3_b)):\n",
        "    print(f'\\033[93mword :\\033[0m ({w}),',\" \"*(6-len(w)),f' \\033[93mtype :\\033[0m ({m}) ,  \\033[93mmeans :\\033[0m  ({spacy.explain(m)})')"
      ],
      "metadata": {
        "colab": {
          "base_uri": "https://localhost:8080/"
        },
        "id": "SrMPhTOUhkc7",
        "outputId": "8cd72eff-43aa-4786-ee28-8700929406b4"
      },
      "execution_count": null,
      "outputs": [
        {
          "output_type": "stream",
          "name": "stdout",
          "text": [
            "\u001b[93mword :\u001b[0m (this),     \u001b[93mtype :\u001b[0m (DT) ,  \u001b[93mmeans :\u001b[0m  (determiner)\n",
            "\u001b[93mword :\u001b[0m (txt),      \u001b[93mtype :\u001b[0m (NN) ,  \u001b[93mmeans :\u001b[0m  (noun, singular or mass)\n",
            "\u001b[93mword :\u001b[0m (,),        \u001b[93mtype :\u001b[0m (,) ,  \u001b[93mmeans :\u001b[0m  (punctuation mark, comma)\n",
            "\u001b[93mword :\u001b[0m (for),      \u001b[93mtype :\u001b[0m (IN) ,  \u001b[93mmeans :\u001b[0m  (conjunction, subordinating or preposition)\n",
            "\u001b[93mword :\u001b[0m (test),     \u001b[93mtype :\u001b[0m (NN) ,  \u001b[93mmeans :\u001b[0m  (noun, singular or mass)\n",
            "\u001b[93mword :\u001b[0m (POS),      \u001b[93mtype :\u001b[0m (NNP) ,  \u001b[93mmeans :\u001b[0m  (noun, proper singular)\n",
            "\u001b[93mword :\u001b[0m (tool),     \u001b[93mtype :\u001b[0m (NN) ,  \u001b[93mmeans :\u001b[0m  (noun, singular or mass)\n",
            "\u001b[93mword :\u001b[0m (from),     \u001b[93mtype :\u001b[0m (IN) ,  \u001b[93mmeans :\u001b[0m  (conjunction, subordinating or preposition)\n",
            "\u001b[93mword :\u001b[0m (NLTK),     \u001b[93mtype :\u001b[0m (NNP) ,  \u001b[93mmeans :\u001b[0m  (noun, proper singular)\n",
            "\u001b[93mword :\u001b[0m (libery),   \u001b[93mtype :\u001b[0m (NN) ,  \u001b[93mmeans :\u001b[0m  (noun, singular or mass)\n",
            "\u001b[93mword :\u001b[0m (in),       \u001b[93mtype :\u001b[0m (IN) ,  \u001b[93mmeans :\u001b[0m  (conjunction, subordinating or preposition)\n",
            "\u001b[93mword :\u001b[0m (python),   \u001b[93mtype :\u001b[0m (NN) ,  \u001b[93mmeans :\u001b[0m  (noun, singular or mass)\n"
          ]
        }
      ]
    },
    {
      "cell_type": "markdown",
      "source": [],
      "metadata": {
        "id": "7HwXPtjvjjH-"
      }
    },
    {
      "cell_type": "markdown",
      "source": [
        "## 04. stemming and Lemmatization"
      ],
      "metadata": {
        "id": "L_gMAZ0cjrJy"
      }
    },
    {
      "cell_type": "markdown",
      "source": [
        "### 04.1 stemming"
      ],
      "metadata": {
        "id": "x0a4JbJGlRnE"
      }
    },
    {
      "cell_type": "markdown",
      "source": [
        "#### 04.1.a NLTK"
      ],
      "metadata": {
        "id": "_ZvJH7O1lWJb"
      }
    },
    {
      "cell_type": "markdown",
      "source": [
        "the stelling remove the additional letters"
      ],
      "metadata": {
        "id": "K4gFcFXRmWRh"
      }
    },
    {
      "cell_type": "code",
      "source": [
        "p_stemmer = PorterStemmer()\n",
        "\n",
        "\n",
        "words = [\"running\",\"jumps\",\"happily\",\"better\",\"studies\",\"flies\",\"universities\",\"caring\",\"generously\",\"relational\"]\n",
        "\n",
        "print(\"PorterStemmer\\n\",\"-\"*30)\n",
        "for word in words:\n",
        "    print(word,\" \"*(15-len(word)),' --> ',p_stemmer.stem(word))"
      ],
      "metadata": {
        "colab": {
          "base_uri": "https://localhost:8080/"
        },
        "id": "yGP7Ddpllb50",
        "outputId": "35d7c732-39ba-49ba-f902-2767adb52bf6"
      },
      "execution_count": null,
      "outputs": [
        {
          "output_type": "stream",
          "name": "stdout",
          "text": [
            "PorterStemmer\n",
            " ------------------------------\n",
            "running           -->  run\n",
            "jumps             -->  jump\n",
            "happily           -->  happili\n",
            "better            -->  better\n",
            "studies           -->  studi\n",
            "flies             -->  fli\n",
            "universities      -->  univers\n",
            "caring            -->  care\n",
            "generously        -->  gener\n",
            "relational        -->  relat\n"
          ]
        }
      ]
    },
    {
      "cell_type": "code",
      "source": [
        "s_stemmer = SnowballStemmer(language='english')\n",
        "\n",
        "\n",
        "words = [\"running\",\"jumps\",\"happily\",\"better\",\"studies\",\"flies\",\"universities\",\"caring\",\"generously\",\"relational\"]\n",
        "\n",
        "print(\"SnowballStemmer\\n\",\"-\"*30)\n",
        "for word in words:\n",
        "    print(word,\" \"*(15-len(word)),' --> ',s_stemmer.stem(word))"
      ],
      "metadata": {
        "colab": {
          "base_uri": "https://localhost:8080/"
        },
        "id": "7ocpPJHsmzig",
        "outputId": "eca9b1da-817b-4bf2-adf3-249a2bcde8ef"
      },
      "execution_count": null,
      "outputs": [
        {
          "output_type": "stream",
          "name": "stdout",
          "text": [
            "SnowballStemmer\n",
            " ------------------------------\n",
            "running           -->  run\n",
            "jumps             -->  jump\n",
            "happily           -->  happili\n",
            "better            -->  better\n",
            "studies           -->  studi\n",
            "flies             -->  fli\n",
            "universities      -->  univers\n",
            "caring            -->  care\n",
            "generously        -->  generous\n",
            "relational        -->  relat\n"
          ]
        }
      ]
    },
    {
      "cell_type": "markdown",
      "source": [],
      "metadata": {
        "id": "0DvEbWkqnRwJ"
      }
    },
    {
      "cell_type": "markdown",
      "source": [],
      "metadata": {
        "id": "eODZZVbanTiE"
      }
    },
    {
      "cell_type": "markdown",
      "source": [
        "### 04.2 Limmitizing"
      ],
      "metadata": {
        "id": "Gi7mURponXwZ"
      }
    },
    {
      "cell_type": "markdown",
      "source": [
        "#### 04.a spacy"
      ],
      "metadata": {
        "id": "JhprtE5jj3pJ"
      }
    },
    {
      "cell_type": "code",
      "source": [
        "nlp = spacy.load('en_core_web_sm')\n",
        "\n",
        "doc1 = nlp(u\"I am a runner running in a race because I love to run since I ran yesterday\")\n",
        "\n",
        "for token in doc1:\n",
        "    print(token.text, ' '*(13-len(token.text)), token.pos_,' '*(13-len(token.pos_)), token.lemma, '\\t', token.lemma_)"
      ],
      "metadata": {
        "colab": {
          "base_uri": "https://localhost:8080/"
        },
        "id": "X1-Wb8YKj0fE",
        "outputId": "623be450-3c04-436d-8b2a-19e9d5182f08"
      },
      "execution_count": null,
      "outputs": [
        {
          "output_type": "stream",
          "name": "stdout",
          "text": [
            "I              PRON           4690420944186131903 \t I\n",
            "am             AUX            10382539506755952630 \t be\n",
            "a              DET            11901859001352538922 \t a\n",
            "runner         NOUN           12640964157389618806 \t runner\n",
            "running        VERB           12767647472892411841 \t run\n",
            "in             ADP            3002984154512732771 \t in\n",
            "a              DET            11901859001352538922 \t a\n",
            "race           NOUN           8048469955494714898 \t race\n",
            "because        SCONJ          16950148841647037698 \t because\n",
            "I              PRON           4690420944186131903 \t I\n",
            "love           VERB           3702023516439754181 \t love\n",
            "to             PART           3791531372978436496 \t to\n",
            "run            VERB           12767647472892411841 \t run\n",
            "since          SCONJ          10066841407251338481 \t since\n",
            "I              PRON           4690420944186131903 \t I\n",
            "ran            VERB           12767647472892411841 \t run\n",
            "yesterday      NOUN           1756787072497230782 \t yesterday\n"
          ]
        }
      ]
    },
    {
      "cell_type": "markdown",
      "source": [
        "#### 04.b NLTK"
      ],
      "metadata": {
        "id": "RIVZCfIZqMBk"
      }
    },
    {
      "cell_type": "code",
      "source": [
        "wordnet_lemmatizer = WordNetLemmatizer()\n",
        "\n",
        "sentence = \"He was running and eating at same time. He has bad habit of swimming after playing long hours in the Sun.\"\n",
        "punctuations=\"?:!.,;\"\n",
        "sentence_words = nltk.word_tokenize(sentence)\n",
        "for word in sentence_words:\n",
        "    if word in punctuations:\n",
        "        sentence_words.remove(word)\n",
        "\n",
        "sentence_words\n",
        "print(\"{0:20}{1:20}\".format(\"Word\",\"Lemma\"))\n",
        "for word in sentence_words:\n",
        "    print (\"{0:20}{1:20}\".format(word,wordnet_lemmatizer.lemmatize(word)))"
      ],
      "metadata": {
        "colab": {
          "base_uri": "https://localhost:8080/"
        },
        "id": "nEZEuWFykiVm",
        "outputId": "0f507d60-1f3b-40b4-e3a5-b23524063245"
      },
      "execution_count": null,
      "outputs": [
        {
          "output_type": "stream",
          "name": "stdout",
          "text": [
            "Word                Lemma               \n",
            "He                  He                  \n",
            "was                 wa                  \n",
            "running             running             \n",
            "and                 and                 \n",
            "eating              eating              \n",
            "at                  at                  \n",
            "same                same                \n",
            "time                time                \n",
            "He                  He                  \n",
            "has                 ha                  \n",
            "bad                 bad                 \n",
            "habit               habit               \n",
            "of                  of                  \n",
            "swimming            swimming            \n",
            "after               after               \n",
            "playing             playing             \n",
            "long                long                \n",
            "hours               hour                \n",
            "in                  in                  \n",
            "the                 the                 \n",
            "Sun                 Sun                 \n"
          ]
        }
      ]
    },
    {
      "cell_type": "code",
      "source": [
        "print(wordnet_lemmatizer.lemmatize(\"meeting\", \"n\"))\n",
        "print(wordnet_lemmatizer.lemmatize(\"meeting\",'v'))"
      ],
      "metadata": {
        "colab": {
          "base_uri": "https://localhost:8080/"
        },
        "id": "SOX8CcmYpPH2",
        "outputId": "5b856d36-e78a-4d90-a16f-94cbd65aa12e"
      },
      "execution_count": null,
      "outputs": [
        {
          "output_type": "stream",
          "name": "stdout",
          "text": [
            "meeting\n",
            "meet\n"
          ]
        }
      ]
    },
    {
      "cell_type": "markdown",
      "source": [
        "## 05. NER (Named-Entity Recognition)\n"
      ],
      "metadata": {
        "id": "StMDwt8kq8db"
      }
    },
    {
      "cell_type": "code",
      "source": [
        "doc1 = nlp(u'Apple to build a Hong Kong factory for $6 million')\n",
        "\n",
        "\n",
        "for ent in doc1.ents:\n",
        "    print(ent.text)\n",
        "    print(ent.root.text)\n",
        "    print(ent.root.dep_)\n",
        "    print(spacy.explain(ent.root.dep_))\n",
        "    print(ent.label)\n",
        "    print(ent.label_)\n",
        "    print(str(spacy.explain(ent.label_)))\n",
        "    print(ent.start)\n",
        "    print(ent.end)\n",
        "    print(ent.start_char)\n",
        "    print(ent.end_char)\n",
        "    print('----------------------------------------------')"
      ],
      "metadata": {
        "colab": {
          "base_uri": "https://localhost:8080/"
        },
        "id": "9aYlOVMLtQBq",
        "outputId": "2c7564fd-c58f-4337-f2e9-5e3185dddb2e"
      },
      "execution_count": null,
      "outputs": [
        {
          "output_type": "stream",
          "name": "stdout",
          "text": [
            "Apple\n",
            "Apple\n",
            "ROOT\n",
            "root\n",
            "383\n",
            "ORG\n",
            "Companies, agencies, institutions, etc.\n",
            "0\n",
            "1\n",
            "0\n",
            "5\n",
            "----------------------------------------------\n",
            "Hong Kong\n",
            "Kong\n",
            "compound\n",
            "compound\n",
            "384\n",
            "GPE\n",
            "Countries, cities, states\n",
            "4\n",
            "6\n",
            "17\n",
            "26\n",
            "----------------------------------------------\n",
            "$6 million\n",
            "million\n",
            "pobj\n",
            "object of preposition\n",
            "394\n",
            "MONEY\n",
            "Monetary values, including unit\n",
            "8\n",
            "11\n",
            "39\n",
            "49\n",
            "----------------------------------------------\n"
          ]
        }
      ]
    },
    {
      "cell_type": "markdown",
      "source": [
        "## 06. Matchers\n"
      ],
      "metadata": {
        "id": "h2OE4xytu5JX"
      }
    },
    {
      "cell_type": "markdown",
      "source": [
        "## 07. Visualization\n"
      ],
      "metadata": {
        "id": "h_HjoYS6u9_U"
      }
    },
    {
      "cell_type": "code",
      "source": [
        "doc1 = nlp(u'Apple is going to build a U.K. factory for $6 million.')\n",
        "displacy.render(doc1, style='dep', jupyter=True, options={'distance': 80})"
      ],
      "metadata": {
        "colab": {
          "base_uri": "https://localhost:8080/"
        },
        "id": "ZNhpe6yKvX83",
        "outputId": "1171b452-4a0b-40d4-9a6c-13ad8ba13f4f"
      },
      "execution_count": null,
      "outputs": [
        {
          "output_type": "display_data",
          "data": {
            "text/plain": [
              "<IPython.core.display.HTML object>"
            ],
            "text/html": [
              "<span class=\"tex2jax_ignore\"><svg xmlns=\"http://www.w3.org/2000/svg\" xmlns:xlink=\"http://www.w3.org/1999/xlink\" xml:lang=\"en\" id=\"7424e2e054b14d1cb2cceef36d3ce634-0\" class=\"displacy\" width=\"1010\" height=\"297.0\" direction=\"ltr\" style=\"max-width: none; height: 297.0px; color: #000000; background: #ffffff; font-family: Arial; direction: ltr\">\n",
              "<text class=\"displacy-token\" fill=\"currentColor\" text-anchor=\"middle\" y=\"207.0\">\n",
              "    <tspan class=\"displacy-word\" fill=\"currentColor\" x=\"50\">Apple</tspan>\n",
              "    <tspan class=\"displacy-tag\" dy=\"2em\" fill=\"currentColor\" x=\"50\">PROPN</tspan>\n",
              "</text>\n",
              "\n",
              "<text class=\"displacy-token\" fill=\"currentColor\" text-anchor=\"middle\" y=\"207.0\">\n",
              "    <tspan class=\"displacy-word\" fill=\"currentColor\" x=\"130\">is</tspan>\n",
              "    <tspan class=\"displacy-tag\" dy=\"2em\" fill=\"currentColor\" x=\"130\">AUX</tspan>\n",
              "</text>\n",
              "\n",
              "<text class=\"displacy-token\" fill=\"currentColor\" text-anchor=\"middle\" y=\"207.0\">\n",
              "    <tspan class=\"displacy-word\" fill=\"currentColor\" x=\"210\">going</tspan>\n",
              "    <tspan class=\"displacy-tag\" dy=\"2em\" fill=\"currentColor\" x=\"210\">VERB</tspan>\n",
              "</text>\n",
              "\n",
              "<text class=\"displacy-token\" fill=\"currentColor\" text-anchor=\"middle\" y=\"207.0\">\n",
              "    <tspan class=\"displacy-word\" fill=\"currentColor\" x=\"290\">to</tspan>\n",
              "    <tspan class=\"displacy-tag\" dy=\"2em\" fill=\"currentColor\" x=\"290\">PART</tspan>\n",
              "</text>\n",
              "\n",
              "<text class=\"displacy-token\" fill=\"currentColor\" text-anchor=\"middle\" y=\"207.0\">\n",
              "    <tspan class=\"displacy-word\" fill=\"currentColor\" x=\"370\">build</tspan>\n",
              "    <tspan class=\"displacy-tag\" dy=\"2em\" fill=\"currentColor\" x=\"370\">VERB</tspan>\n",
              "</text>\n",
              "\n",
              "<text class=\"displacy-token\" fill=\"currentColor\" text-anchor=\"middle\" y=\"207.0\">\n",
              "    <tspan class=\"displacy-word\" fill=\"currentColor\" x=\"450\">a</tspan>\n",
              "    <tspan class=\"displacy-tag\" dy=\"2em\" fill=\"currentColor\" x=\"450\">DET</tspan>\n",
              "</text>\n",
              "\n",
              "<text class=\"displacy-token\" fill=\"currentColor\" text-anchor=\"middle\" y=\"207.0\">\n",
              "    <tspan class=\"displacy-word\" fill=\"currentColor\" x=\"530\">U.K.</tspan>\n",
              "    <tspan class=\"displacy-tag\" dy=\"2em\" fill=\"currentColor\" x=\"530\">PROPN</tspan>\n",
              "</text>\n",
              "\n",
              "<text class=\"displacy-token\" fill=\"currentColor\" text-anchor=\"middle\" y=\"207.0\">\n",
              "    <tspan class=\"displacy-word\" fill=\"currentColor\" x=\"610\">factory</tspan>\n",
              "    <tspan class=\"displacy-tag\" dy=\"2em\" fill=\"currentColor\" x=\"610\">NOUN</tspan>\n",
              "</text>\n",
              "\n",
              "<text class=\"displacy-token\" fill=\"currentColor\" text-anchor=\"middle\" y=\"207.0\">\n",
              "    <tspan class=\"displacy-word\" fill=\"currentColor\" x=\"690\">for</tspan>\n",
              "    <tspan class=\"displacy-tag\" dy=\"2em\" fill=\"currentColor\" x=\"690\">ADP</tspan>\n",
              "</text>\n",
              "\n",
              "<text class=\"displacy-token\" fill=\"currentColor\" text-anchor=\"middle\" y=\"207.0\">\n",
              "    <tspan class=\"displacy-word\" fill=\"currentColor\" x=\"770\">$</tspan>\n",
              "    <tspan class=\"displacy-tag\" dy=\"2em\" fill=\"currentColor\" x=\"770\">SYM</tspan>\n",
              "</text>\n",
              "\n",
              "<text class=\"displacy-token\" fill=\"currentColor\" text-anchor=\"middle\" y=\"207.0\">\n",
              "    <tspan class=\"displacy-word\" fill=\"currentColor\" x=\"850\">6</tspan>\n",
              "    <tspan class=\"displacy-tag\" dy=\"2em\" fill=\"currentColor\" x=\"850\">NUM</tspan>\n",
              "</text>\n",
              "\n",
              "<text class=\"displacy-token\" fill=\"currentColor\" text-anchor=\"middle\" y=\"207.0\">\n",
              "    <tspan class=\"displacy-word\" fill=\"currentColor\" x=\"930\">million.</tspan>\n",
              "    <tspan class=\"displacy-tag\" dy=\"2em\" fill=\"currentColor\" x=\"930\">NUM</tspan>\n",
              "</text>\n",
              "\n",
              "<g class=\"displacy-arrow\">\n",
              "    <path class=\"displacy-arc\" id=\"arrow-7424e2e054b14d1cb2cceef36d3ce634-0-0\" stroke-width=\"2px\" d=\"M70,162.0 C70,82.0 200.0,82.0 200.0,162.0\" fill=\"none\" stroke=\"currentColor\"/>\n",
              "    <text dy=\"1.25em\" style=\"font-size: 0.8em; letter-spacing: 1px\">\n",
              "        <textPath xlink:href=\"#arrow-7424e2e054b14d1cb2cceef36d3ce634-0-0\" class=\"displacy-label\" startOffset=\"50%\" side=\"left\" fill=\"currentColor\" text-anchor=\"middle\">nsubj</textPath>\n",
              "    </text>\n",
              "    <path class=\"displacy-arrowhead\" d=\"M70,164.0 L62,152.0 78,152.0\" fill=\"currentColor\"/>\n",
              "</g>\n",
              "\n",
              "<g class=\"displacy-arrow\">\n",
              "    <path class=\"displacy-arc\" id=\"arrow-7424e2e054b14d1cb2cceef36d3ce634-0-1\" stroke-width=\"2px\" d=\"M150,162.0 C150,122.0 195.0,122.0 195.0,162.0\" fill=\"none\" stroke=\"currentColor\"/>\n",
              "    <text dy=\"1.25em\" style=\"font-size: 0.8em; letter-spacing: 1px\">\n",
              "        <textPath xlink:href=\"#arrow-7424e2e054b14d1cb2cceef36d3ce634-0-1\" class=\"displacy-label\" startOffset=\"50%\" side=\"left\" fill=\"currentColor\" text-anchor=\"middle\">aux</textPath>\n",
              "    </text>\n",
              "    <path class=\"displacy-arrowhead\" d=\"M150,164.0 L142,152.0 158,152.0\" fill=\"currentColor\"/>\n",
              "</g>\n",
              "\n",
              "<g class=\"displacy-arrow\">\n",
              "    <path class=\"displacy-arc\" id=\"arrow-7424e2e054b14d1cb2cceef36d3ce634-0-2\" stroke-width=\"2px\" d=\"M310,162.0 C310,122.0 355.0,122.0 355.0,162.0\" fill=\"none\" stroke=\"currentColor\"/>\n",
              "    <text dy=\"1.25em\" style=\"font-size: 0.8em; letter-spacing: 1px\">\n",
              "        <textPath xlink:href=\"#arrow-7424e2e054b14d1cb2cceef36d3ce634-0-2\" class=\"displacy-label\" startOffset=\"50%\" side=\"left\" fill=\"currentColor\" text-anchor=\"middle\">aux</textPath>\n",
              "    </text>\n",
              "    <path class=\"displacy-arrowhead\" d=\"M310,164.0 L302,152.0 318,152.0\" fill=\"currentColor\"/>\n",
              "</g>\n",
              "\n",
              "<g class=\"displacy-arrow\">\n",
              "    <path class=\"displacy-arc\" id=\"arrow-7424e2e054b14d1cb2cceef36d3ce634-0-3\" stroke-width=\"2px\" d=\"M230,162.0 C230,82.0 360.0,82.0 360.0,162.0\" fill=\"none\" stroke=\"currentColor\"/>\n",
              "    <text dy=\"1.25em\" style=\"font-size: 0.8em; letter-spacing: 1px\">\n",
              "        <textPath xlink:href=\"#arrow-7424e2e054b14d1cb2cceef36d3ce634-0-3\" class=\"displacy-label\" startOffset=\"50%\" side=\"left\" fill=\"currentColor\" text-anchor=\"middle\">xcomp</textPath>\n",
              "    </text>\n",
              "    <path class=\"displacy-arrowhead\" d=\"M360.0,164.0 L368.0,152.0 352.0,152.0\" fill=\"currentColor\"/>\n",
              "</g>\n",
              "\n",
              "<g class=\"displacy-arrow\">\n",
              "    <path class=\"displacy-arc\" id=\"arrow-7424e2e054b14d1cb2cceef36d3ce634-0-4\" stroke-width=\"2px\" d=\"M470,162.0 C470,82.0 600.0,82.0 600.0,162.0\" fill=\"none\" stroke=\"currentColor\"/>\n",
              "    <text dy=\"1.25em\" style=\"font-size: 0.8em; letter-spacing: 1px\">\n",
              "        <textPath xlink:href=\"#arrow-7424e2e054b14d1cb2cceef36d3ce634-0-4\" class=\"displacy-label\" startOffset=\"50%\" side=\"left\" fill=\"currentColor\" text-anchor=\"middle\">det</textPath>\n",
              "    </text>\n",
              "    <path class=\"displacy-arrowhead\" d=\"M470,164.0 L462,152.0 478,152.0\" fill=\"currentColor\"/>\n",
              "</g>\n",
              "\n",
              "<g class=\"displacy-arrow\">\n",
              "    <path class=\"displacy-arc\" id=\"arrow-7424e2e054b14d1cb2cceef36d3ce634-0-5\" stroke-width=\"2px\" d=\"M550,162.0 C550,122.0 595.0,122.0 595.0,162.0\" fill=\"none\" stroke=\"currentColor\"/>\n",
              "    <text dy=\"1.25em\" style=\"font-size: 0.8em; letter-spacing: 1px\">\n",
              "        <textPath xlink:href=\"#arrow-7424e2e054b14d1cb2cceef36d3ce634-0-5\" class=\"displacy-label\" startOffset=\"50%\" side=\"left\" fill=\"currentColor\" text-anchor=\"middle\">compound</textPath>\n",
              "    </text>\n",
              "    <path class=\"displacy-arrowhead\" d=\"M550,164.0 L542,152.0 558,152.0\" fill=\"currentColor\"/>\n",
              "</g>\n",
              "\n",
              "<g class=\"displacy-arrow\">\n",
              "    <path class=\"displacy-arc\" id=\"arrow-7424e2e054b14d1cb2cceef36d3ce634-0-6\" stroke-width=\"2px\" d=\"M390,162.0 C390,42.0 605.0,42.0 605.0,162.0\" fill=\"none\" stroke=\"currentColor\"/>\n",
              "    <text dy=\"1.25em\" style=\"font-size: 0.8em; letter-spacing: 1px\">\n",
              "        <textPath xlink:href=\"#arrow-7424e2e054b14d1cb2cceef36d3ce634-0-6\" class=\"displacy-label\" startOffset=\"50%\" side=\"left\" fill=\"currentColor\" text-anchor=\"middle\">dobj</textPath>\n",
              "    </text>\n",
              "    <path class=\"displacy-arrowhead\" d=\"M605.0,164.0 L613.0,152.0 597.0,152.0\" fill=\"currentColor\"/>\n",
              "</g>\n",
              "\n",
              "<g class=\"displacy-arrow\">\n",
              "    <path class=\"displacy-arc\" id=\"arrow-7424e2e054b14d1cb2cceef36d3ce634-0-7\" stroke-width=\"2px\" d=\"M390,162.0 C390,2.0 690.0,2.0 690.0,162.0\" fill=\"none\" stroke=\"currentColor\"/>\n",
              "    <text dy=\"1.25em\" style=\"font-size: 0.8em; letter-spacing: 1px\">\n",
              "        <textPath xlink:href=\"#arrow-7424e2e054b14d1cb2cceef36d3ce634-0-7\" class=\"displacy-label\" startOffset=\"50%\" side=\"left\" fill=\"currentColor\" text-anchor=\"middle\">prep</textPath>\n",
              "    </text>\n",
              "    <path class=\"displacy-arrowhead\" d=\"M690.0,164.0 L698.0,152.0 682.0,152.0\" fill=\"currentColor\"/>\n",
              "</g>\n",
              "\n",
              "<g class=\"displacy-arrow\">\n",
              "    <path class=\"displacy-arc\" id=\"arrow-7424e2e054b14d1cb2cceef36d3ce634-0-8\" stroke-width=\"2px\" d=\"M790,162.0 C790,82.0 920.0,82.0 920.0,162.0\" fill=\"none\" stroke=\"currentColor\"/>\n",
              "    <text dy=\"1.25em\" style=\"font-size: 0.8em; letter-spacing: 1px\">\n",
              "        <textPath xlink:href=\"#arrow-7424e2e054b14d1cb2cceef36d3ce634-0-8\" class=\"displacy-label\" startOffset=\"50%\" side=\"left\" fill=\"currentColor\" text-anchor=\"middle\">quantmod</textPath>\n",
              "    </text>\n",
              "    <path class=\"displacy-arrowhead\" d=\"M790,164.0 L782,152.0 798,152.0\" fill=\"currentColor\"/>\n",
              "</g>\n",
              "\n",
              "<g class=\"displacy-arrow\">\n",
              "    <path class=\"displacy-arc\" id=\"arrow-7424e2e054b14d1cb2cceef36d3ce634-0-9\" stroke-width=\"2px\" d=\"M870,162.0 C870,122.0 915.0,122.0 915.0,162.0\" fill=\"none\" stroke=\"currentColor\"/>\n",
              "    <text dy=\"1.25em\" style=\"font-size: 0.8em; letter-spacing: 1px\">\n",
              "        <textPath xlink:href=\"#arrow-7424e2e054b14d1cb2cceef36d3ce634-0-9\" class=\"displacy-label\" startOffset=\"50%\" side=\"left\" fill=\"currentColor\" text-anchor=\"middle\">compound</textPath>\n",
              "    </text>\n",
              "    <path class=\"displacy-arrowhead\" d=\"M870,164.0 L862,152.0 878,152.0\" fill=\"currentColor\"/>\n",
              "</g>\n",
              "\n",
              "<g class=\"displacy-arrow\">\n",
              "    <path class=\"displacy-arc\" id=\"arrow-7424e2e054b14d1cb2cceef36d3ce634-0-10\" stroke-width=\"2px\" d=\"M710,162.0 C710,42.0 925.0,42.0 925.0,162.0\" fill=\"none\" stroke=\"currentColor\"/>\n",
              "    <text dy=\"1.25em\" style=\"font-size: 0.8em; letter-spacing: 1px\">\n",
              "        <textPath xlink:href=\"#arrow-7424e2e054b14d1cb2cceef36d3ce634-0-10\" class=\"displacy-label\" startOffset=\"50%\" side=\"left\" fill=\"currentColor\" text-anchor=\"middle\">pobj</textPath>\n",
              "    </text>\n",
              "    <path class=\"displacy-arrowhead\" d=\"M925.0,164.0 L933.0,152.0 917.0,152.0\" fill=\"currentColor\"/>\n",
              "</g>\n",
              "</svg></span>"
            ]
          },
          "metadata": {}
        }
      ]
    },
    {
      "cell_type": "code",
      "source": [
        "displacy.render(doc1, style='ent', jupyter=True, options={'distance': 80})"
      ],
      "metadata": {
        "colab": {
          "base_uri": "https://localhost:8080/"
        },
        "id": "urcGlerwvgUR",
        "outputId": "c7bb446b-3893-47fa-9d0b-4c41cfff59cf"
      },
      "execution_count": null,
      "outputs": [
        {
          "output_type": "display_data",
          "data": {
            "text/plain": [
              "<IPython.core.display.HTML object>"
            ],
            "text/html": [
              "<span class=\"tex2jax_ignore\"><div class=\"entities\" style=\"line-height: 2.5; direction: ltr\">\n",
              "<mark class=\"entity\" style=\"background: #7aecec; padding: 0.45em 0.6em; margin: 0 0.25em; line-height: 1; border-radius: 0.35em;\">\n",
              "    Apple\n",
              "    <span style=\"font-size: 0.8em; font-weight: bold; line-height: 1; border-radius: 0.35em; vertical-align: middle; margin-left: 0.5rem\">ORG</span>\n",
              "</mark>\n",
              " is going to build a \n",
              "<mark class=\"entity\" style=\"background: #feca74; padding: 0.45em 0.6em; margin: 0 0.25em; line-height: 1; border-radius: 0.35em;\">\n",
              "    U.K.\n",
              "    <span style=\"font-size: 0.8em; font-weight: bold; line-height: 1; border-radius: 0.35em; vertical-align: middle; margin-left: 0.5rem\">GPE</span>\n",
              "</mark>\n",
              " factory for \n",
              "<mark class=\"entity\" style=\"background: #e4e7d2; padding: 0.45em 0.6em; margin: 0 0.25em; line-height: 1; border-radius: 0.35em;\">\n",
              "    $6 million\n",
              "    <span style=\"font-size: 0.8em; font-weight: bold; line-height: 1; border-radius: 0.35em; vertical-align: middle; margin-left: 0.5rem\">MONEY</span>\n",
              "</mark>\n",
              ".</div></span>"
            ]
          },
          "metadata": {}
        }
      ]
    },
    {
      "cell_type": "markdown",
      "source": [
        "# Part II :\n",
        "___"
      ],
      "metadata": {
        "id": "S9N09JGFCzTD"
      }
    },
    {
      "cell_type": "markdown",
      "source": [
        "## 01. Word Embedding"
      ],
      "metadata": {
        "id": "ngOq5G-5DR86"
      }
    },
    {
      "cell_type": "code",
      "source": [
        "nlp2 = spacy.load('en_core_web_lg')"
      ],
      "metadata": {
        "id": "2gQmHnRcDjcX"
      },
      "execution_count": 5,
      "outputs": []
    },
    {
      "cell_type": "code",
      "source": [
        "len(nlp2(u'love').vector)"
      ],
      "metadata": {
        "colab": {
          "base_uri": "https://localhost:8080/"
        },
        "id": "aSyNe30pD9sd",
        "outputId": "22dbb674-66a9-401c-e388-0095025e9e96"
      },
      "execution_count": 6,
      "outputs": [
        {
          "output_type": "execute_result",
          "data": {
            "text/plain": [
              "300"
            ]
          },
          "metadata": {},
          "execution_count": 6
        }
      ]
    },
    {
      "cell_type": "code",
      "source": [
        "print(nlp2(u'love').vector[:10])"
      ],
      "metadata": {
        "colab": {
          "base_uri": "https://localhost:8080/"
        },
        "collapsed": true,
        "id": "xeu5f8YKEEno",
        "outputId": "9c0a7de3-6eed-4b74-a74f-8cab3359adb5"
      },
      "execution_count": 12,
      "outputs": [
        {
          "output_type": "stream",
          "name": "stdout",
          "text": [
            "[ 2.0565  -3.2259  -5.7364  -6.146    0.15748 -2.4284   7.658    2.7064\n",
            " -2.211   -0.8999 ]\n"
          ]
        }
      ]
    },
    {
      "cell_type": "code",
      "source": [
        "print(nlp2('love').similarity(nlp2('love')))\n",
        "print(nlp2('love').similarity(nlp2('hate')))\n",
        "print(nlp2('dog').similarity(nlp2('cat')))"
      ],
      "metadata": {
        "colab": {
          "base_uri": "https://localhost:8080/"
        },
        "id": "9Qnean4lFBkz",
        "outputId": "306d07ba-2b9e-45c8-c538-982ad9928737"
      },
      "execution_count": 8,
      "outputs": [
        {
          "output_type": "stream",
          "name": "stdout",
          "text": [
            "1.0\n",
            "0.5708349903422567\n",
            "0.8220816752553904\n"
          ]
        }
      ]
    },
    {
      "cell_type": "code",
      "source": [
        "king = nlp2.vocab['king'].vector\n",
        "man = nlp2.vocab['man'].vector\n",
        "woman = nlp2.vocab['woman'].vector\n",
        "\n",
        "new_vector = king - man + woman\n",
        "\n",
        "print(\"king - man + woman =\" ,1 - spatial.distance.cosine(new_vector, nlp2(\"queen\").vector),\"| queen\")"
      ],
      "metadata": {
        "colab": {
          "base_uri": "https://localhost:8080/"
        },
        "id": "cpGkpxUGI9LQ",
        "outputId": "da65eac1-0d77-4088-e58f-5911a9f4504c"
      },
      "execution_count": 17,
      "outputs": [
        {
          "output_type": "stream",
          "name": "stdout",
          "text": [
            "king - man + woman = 0.3821985721588135 | queen\n"
          ]
        }
      ]
    },
    {
      "cell_type": "code",
      "source": [
        "print(\"king - man + woman =\" , 1 - spatial.distance.cosine(new_vector, nlp2(\"car\").vector),\"| car\")"
      ],
      "metadata": {
        "colab": {
          "base_uri": "https://localhost:8080/"
        },
        "id": "DADkc-8oJ9dK",
        "outputId": "d4ec3671-c5ca-4d64-f4b9-f7286cababa4"
      },
      "execution_count": 21,
      "outputs": [
        {
          "output_type": "stream",
          "name": "stdout",
          "text": [
            "king - man + woman = -0.030170820653438568 | car\n"
          ]
        }
      ]
    },
    {
      "cell_type": "markdown",
      "source": [
        "# Part III :\n",
        "___\n"
      ],
      "metadata": {
        "id": "pA_4SC8klEGl"
      }
    },
    {
      "cell_type": "markdown",
      "source": [
        "## III.01 Lexicons : *NLTK.wordnet*\n",
        "\n",
        "\n",
        "\n",
        "\n",
        "\n"
      ],
      "metadata": {
        "id": "mQf5iIlrlOz8"
      }
    },
    {
      "cell_type": "code",
      "source": [
        "syns = wordnet.synsets(\"program\")\n",
        "syns"
      ],
      "metadata": {
        "id": "-CbTC7colIYX",
        "outputId": "10c5211e-29bf-49c7-89b0-8a5b29358b63",
        "colab": {
          "base_uri": "https://localhost:8080/"
        }
      },
      "execution_count": 25,
      "outputs": [
        {
          "output_type": "execute_result",
          "data": {
            "text/plain": [
              "[Synset('plan.n.01'),\n",
              " Synset('program.n.02'),\n",
              " Synset('broadcast.n.02'),\n",
              " Synset('platform.n.02'),\n",
              " Synset('program.n.05'),\n",
              " Synset('course_of_study.n.01'),\n",
              " Synset('program.n.07'),\n",
              " Synset('program.n.08'),\n",
              " Synset('program.v.01'),\n",
              " Synset('program.v.02')]"
            ]
          },
          "metadata": {},
          "execution_count": 25
        }
      ]
    },
    {
      "cell_type": "code",
      "source": [
        "syns[0].name()"
      ],
      "metadata": {
        "id": "mVBdPZPpmz5-",
        "outputId": "d38e3a42-b66a-40b0-e72c-456d0c913947",
        "colab": {
          "base_uri": "https://localhost:8080/",
          "height": 36
        }
      },
      "execution_count": 26,
      "outputs": [
        {
          "output_type": "execute_result",
          "data": {
            "text/plain": [
              "'plan.n.01'"
            ],
            "application/vnd.google.colaboratory.intrinsic+json": {
              "type": "string"
            }
          },
          "metadata": {},
          "execution_count": 26
        }
      ]
    },
    {
      "cell_type": "code",
      "source": [
        "syns[0].lemmas()[0].name()"
      ],
      "metadata": {
        "id": "7BAoO7KknDTB",
        "outputId": "bc6d07bc-ec54-4f28-d148-f8c8e175ee0f",
        "colab": {
          "base_uri": "https://localhost:8080/",
          "height": 36
        }
      },
      "execution_count": 27,
      "outputs": [
        {
          "output_type": "execute_result",
          "data": {
            "text/plain": [
              "'plan'"
            ],
            "application/vnd.google.colaboratory.intrinsic+json": {
              "type": "string"
            }
          },
          "metadata": {},
          "execution_count": 27
        }
      ]
    },
    {
      "cell_type": "code",
      "source": [
        "print(syns[0].definition())"
      ],
      "metadata": {
        "id": "7UHBzigbnEqj",
        "outputId": "80f0e70b-50bf-4aae-f8f4-392e3951eb04",
        "colab": {
          "base_uri": "https://localhost:8080/"
        }
      },
      "execution_count": 28,
      "outputs": [
        {
          "output_type": "stream",
          "name": "stdout",
          "text": [
            "a series of steps to be carried out or goals to be accomplished\n"
          ]
        }
      ]
    },
    {
      "cell_type": "code",
      "source": [
        "print(syns[0].examples())"
      ],
      "metadata": {
        "id": "83vzoV4cnHFk",
        "outputId": "f7cf6594-b5de-4da9-da19-984f1b2fae04",
        "colab": {
          "base_uri": "https://localhost:8080/"
        }
      },
      "execution_count": 29,
      "outputs": [
        {
          "output_type": "stream",
          "name": "stdout",
          "text": [
            "['they drew up a six-step plan', 'they discussed plans for a new bond issue']\n"
          ]
        }
      ]
    }
  ]
}